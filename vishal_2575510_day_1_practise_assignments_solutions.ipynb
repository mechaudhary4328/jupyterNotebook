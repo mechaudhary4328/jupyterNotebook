{
 "cells": [
  {
   "cell_type": "markdown",
   "id": "c586b515",
   "metadata": {},
   "source": [
    "# 1.Manipulate using a list.\n",
    "1.to add new elements to the  end of  the list.\n",
    "2.to reverse element in the list.\n",
    "3.to display the same list of elements multiple times.\n",
    "4.to concatenate two list.\n",
    "5.to sort the elements in the list in an ascending order.\n"
   ]
  },
  {
   "cell_type": "code",
   "execution_count": 2,
   "id": "a033b576",
   "metadata": {},
   "outputs": [
    {
     "data": {
      "text/plain": [
       "[1, 'vishal', 3]"
      ]
     },
     "execution_count": 2,
     "metadata": {},
     "output_type": "execute_result"
    }
   ],
   "source": [
    "my_list = [1, 'vishal', 3]\n",
    "my_list\n"
   ]
  },
  {
   "cell_type": "code",
   "execution_count": 3,
   "id": "6de007ec",
   "metadata": {},
   "outputs": [
    {
     "name": "stdout",
     "output_type": "stream",
     "text": [
      "[1, 'vishal', 3, 4]\n"
     ]
    }
   ],
   "source": [
    "my_list.append(4)  # Adds 4 to the end of the list\n",
    "print(my_list)"
   ]
  },
  {
   "cell_type": "code",
   "execution_count": 3,
   "id": "69b266b8",
   "metadata": {},
   "outputs": [
    {
     "name": "stdout",
     "output_type": "stream",
     "text": [
      "[4, 3, 'vishal', 1]\n"
     ]
    }
   ],
   "source": [
    "my_list.reverse()  # Reverses the list in-place\n",
    "print(my_list)"
   ]
  },
  {
   "cell_type": "code",
   "execution_count": 4,
   "id": "b13be219",
   "metadata": {},
   "outputs": [
    {
     "name": "stdout",
     "output_type": "stream",
     "text": [
      "[4, 3, 'vishal', 1, 4, 3, 'vishal', 1, 4, 3, 'vishal', 1]\n"
     ]
    }
   ],
   "source": [
    "result = my_list * 3  # Repeats the list 3 times\n",
    "print(result)"
   ]
  },
  {
   "cell_type": "code",
   "execution_count": 5,
   "id": "491f61c5",
   "metadata": {},
   "outputs": [
    {
     "data": {
      "text/plain": [
       "[4, 3, 'vishal', 1]"
      ]
     },
     "execution_count": 5,
     "metadata": {},
     "output_type": "execute_result"
    }
   ],
   "source": [
    "my_list"
   ]
  },
  {
   "cell_type": "code",
   "execution_count": 6,
   "id": "ddb9738a",
   "metadata": {},
   "outputs": [],
   "source": [
    "my_list.reverse()"
   ]
  },
  {
   "cell_type": "code",
   "execution_count": 7,
   "id": "42ebc856",
   "metadata": {},
   "outputs": [
    {
     "name": "stdout",
     "output_type": "stream",
     "text": [
      "[1, 'vishal', 3, 4]\n"
     ]
    }
   ],
   "source": [
    "print(my_list)"
   ]
  },
  {
   "cell_type": "code",
   "execution_count": 9,
   "id": "4127442f",
   "metadata": {},
   "outputs": [
    {
     "name": "stdout",
     "output_type": "stream",
     "text": [
      "[1, 'vishal', 3, 4, 'yash', 5, 6]\n"
     ]
    }
   ],
   "source": [
    "my_list2 = ['yash', 5, 6]\n",
    "concatenated_list = my_list + my_list2  \n",
    "print(concatenated_list)  \n",
    " \n",
    "\n",
    "\n",
    "\n",
    "\n",
    "\n"
   ]
  },
  {
   "cell_type": "code",
   "execution_count": 11,
   "id": "93898d1c",
   "metadata": {},
   "outputs": [
    {
     "name": "stdout",
     "output_type": "stream",
     "text": [
      "[1, 1, 2, 2, 3, 3, 3, 4, 5, 5, 5, 6, 6, 8, 9, 9]\n"
     ]
    }
   ],
   "source": [
    "my_list1 = [3, 1, 4, 1, 5, 9, 2, 6, 5, 3, 5,8,6,3,2,9]\n",
    "my_list1.sort()  # Sorts the list in ascending order\n",
    "print(my_list1)"
   ]
  },
  {
   "cell_type": "markdown",
   "id": "a83e747f",
   "metadata": {},
   "source": [
    "# 2.write a python program  to do in the tuples.\n"
   ]
  },
  {
   "cell_type": "code",
   "execution_count": 12,
   "id": "9590d2c4",
   "metadata": {},
   "outputs": [
    {
     "data": {
      "text/plain": [
       "(1, 2, 3, 4, 5)"
      ]
     },
     "execution_count": 12,
     "metadata": {},
     "output_type": "execute_result"
    }
   ],
   "source": [
    "# Manipulate tuples\n",
    "my_tuple = (1, 2, 3, 4, 5)\n",
    "my_tuple\n"
   ]
  },
  {
   "cell_type": "code",
   "execution_count": 17,
   "id": "3c794494",
   "metadata": {},
   "outputs": [
    {
     "data": {
      "text/plain": [
       "(1, 2, 3, 4, 5, 6, 7, 6, 7, 6, 7)"
      ]
     },
     "execution_count": 17,
     "metadata": {},
     "output_type": "execute_result"
    }
   ],
   "source": [
    "# 1. Add new elements to the ends of the tuple\n",
    "my_tuple = my_tuple + (6, 7)  # Using concatenation\n",
    "my_tuple"
   ]
  },
  {
   "cell_type": "code",
   "execution_count": 22,
   "id": "6c6697cf",
   "metadata": {},
   "outputs": [
    {
     "data": {
      "text/plain": [
       "(7, 6, 7, 6, 7, 6, 5, 4, 3, 2, 1)"
      ]
     },
     "execution_count": 22,
     "metadata": {},
     "output_type": "execute_result"
    }
   ],
   "source": [
    "# 2. Reverse elements in the tuple\n",
    "reversed_tuple = my_tuple[::-1]\n",
    "reversed_tuple"
   ]
  },
  {
   "cell_type": "code",
   "execution_count": 26,
   "id": "c173953b",
   "metadata": {},
   "outputs": [
    {
     "data": {
      "text/plain": [
       "(1,\n",
       " 2,\n",
       " 3,\n",
       " 4,\n",
       " 5,\n",
       " 6,\n",
       " 7,\n",
       " 6,\n",
       " 7,\n",
       " 6,\n",
       " 7,\n",
       " 1,\n",
       " 2,\n",
       " 3,\n",
       " 4,\n",
       " 5,\n",
       " 6,\n",
       " 7,\n",
       " 6,\n",
       " 7,\n",
       " 6,\n",
       " 7,\n",
       " 1,\n",
       " 2,\n",
       " 3,\n",
       " 4,\n",
       " 5,\n",
       " 6,\n",
       " 7,\n",
       " 6,\n",
       " 7,\n",
       " 6,\n",
       " 7)"
      ]
     },
     "execution_count": 26,
     "metadata": {},
     "output_type": "execute_result"
    }
   ],
   "source": [
    "# 3. Display elements of the same tuple multiple times\n",
    "repeated_tuple = (my_tuple * 3)\n",
    "repeated_tuple"
   ]
  },
  {
   "cell_type": "code",
   "execution_count": 27,
   "id": "15c3d063",
   "metadata": {},
   "outputs": [
    {
     "data": {
      "text/plain": [
       "(1, 2, 3, 4, 5, 6, 7, 8)"
      ]
     },
     "execution_count": 27,
     "metadata": {},
     "output_type": "execute_result"
    }
   ],
   "source": [
    "# 4. Concatenate two tuples\n",
    "my_tuple = (1, 2, 3, 4, 5)\n",
    "my_tuple2 = (6,7,8)\n",
    "concatenated_tuple = my_tuple + my_tuple2\n",
    "concatenated_tuple"
   ]
  },
  {
   "cell_type": "code",
   "execution_count": 28,
   "id": "59a177e0",
   "metadata": {},
   "outputs": [
    {
     "data": {
      "text/plain": [
       "(1, 2, 3, 4, 5)"
      ]
     },
     "execution_count": 28,
     "metadata": {},
     "output_type": "execute_result"
    }
   ],
   "source": [
    "sorted_tuple = tuple(sorted(my_tuple))\n",
    "sorted_tuple"
   ]
  },
  {
   "cell_type": "code",
   "execution_count": 29,
   "id": "3490181f",
   "metadata": {},
   "outputs": [
    {
     "name": "stdout",
     "output_type": "stream",
     "text": [
      "Original Tuple: (1, 2, 3, 4, 5)\n",
      "Reversed Tuple: (7, 6, 7, 6, 7, 6, 5, 4, 3, 2, 1)\n",
      "Repeated Tuple: (1, 2, 3, 4, 5, 6, 7, 6, 7, 6, 7, 1, 2, 3, 4, 5, 6, 7, 6, 7, 6, 7, 1, 2, 3, 4, 5, 6, 7, 6, 7, 6, 7)\n",
      "Concatenated Tuple: (1, 2, 3, 4, 5, 6, 7, 8)\n",
      "Sorted Tuple: (1, 2, 3, 4, 5)\n"
     ]
    }
   ],
   "source": [
    "print(\"Original Tuple:\", my_tuple)\n",
    "print(\"Reversed Tuple:\", reversed_tuple)\n",
    "print(\"Repeated Tuple:\", repeated_tuple)\n",
    "print(\"Concatenated Tuple:\", concatenated_tuple)\n",
    "print(\"Sorted Tuple:\", sorted_tuple)"
   ]
  },
  {
   "cell_type": "markdown",
   "id": "02f2b0d1",
   "metadata": {},
   "source": [
    "# 3. write a python program to implement  the following  using list.\n"
   ]
  },
  {
   "cell_type": "code",
   "execution_count": 30,
   "id": "7ef81a0a",
   "metadata": {},
   "outputs": [
    {
     "data": {
      "text/plain": [
       "[1, 2, 3, 4, 5, 6, 7, 8, 9, 10]"
      ]
     },
     "execution_count": 30,
     "metadata": {},
     "output_type": "execute_result"
    }
   ],
   "source": [
    "# 1. Create a list with integers (minimum 10 numbers)\n",
    "my_list = [1, 2, 3, 4, 5, 6, 7, 8, 9, 10]\n",
    "my_list"
   ]
  },
  {
   "cell_type": "code",
   "execution_count": 31,
   "id": "f44a328a",
   "metadata": {},
   "outputs": [
    {
     "data": {
      "text/plain": [
       "10"
      ]
     },
     "execution_count": 31,
     "metadata": {},
     "output_type": "execute_result"
    }
   ],
   "source": [
    "# 2. Display the last number in the list\n",
    "last_number = my_list[-1]\n",
    "last_number"
   ]
  },
  {
   "cell_type": "code",
   "execution_count": 32,
   "id": "14afa6a9",
   "metadata": {},
   "outputs": [
    {
     "data": {
      "text/plain": [
       "[1, 2, 3, 4]"
      ]
     },
     "execution_count": 32,
     "metadata": {},
     "output_type": "execute_result"
    }
   ],
   "source": [
    "# 3. Display values from the list[0:4]\n",
    "value1 = my_list[0:4]\n",
    "value1\n"
   ]
  },
  {
   "cell_type": "code",
   "execution_count": 33,
   "id": "37578653",
   "metadata": {},
   "outputs": [
    {
     "data": {
      "text/plain": [
       "[3, 4, 5, 6, 7, 8, 9, 10]"
      ]
     },
     "execution_count": 33,
     "metadata": {},
     "output_type": "execute_result"
    }
   ],
   "source": [
    "# 4. Display values from the list[2:]\n",
    "value2 = my_list[2:]\n",
    "value2\n"
   ]
  },
  {
   "cell_type": "code",
   "execution_count": 34,
   "id": "63085466",
   "metadata": {},
   "outputs": [
    {
     "data": {
      "text/plain": [
       "[1, 2, 3, 4, 5, 6]"
      ]
     },
     "execution_count": 34,
     "metadata": {},
     "output_type": "execute_result"
    }
   ],
   "source": [
    "# 5. Display values from the list[:6]\n",
    "value3 = my_list[:6]\n",
    "value3"
   ]
  },
  {
   "cell_type": "code",
   "execution_count": 35,
   "id": "45ab448d",
   "metadata": {},
   "outputs": [
    {
     "name": "stdout",
     "output_type": "stream",
     "text": [
      "Original List: [1, 2, 3, 4, 5, 6, 7, 8, 9, 10]\n",
      "Last Number: 10\n",
      "Values from List[0:4]: [1, 2, 3, 4]\n",
      "Values from List[2:]: [3, 4, 5, 6, 7, 8, 9, 10]\n",
      "Values from List[:6]: [1, 2, 3, 4, 5, 6]\n"
     ]
    }
   ],
   "source": [
    "# Display the results\n",
    "print(\"Original List:\", my_list)\n",
    "print(\"Last Number:\", last_number)\n",
    "print(\"Values from List[0:4]:\", value1)\n",
    "print(\"Values from List[2:]:\", value2)\n",
    "print(\"Values from List[:6]:\", value3)"
   ]
  },
  {
   "cell_type": "markdown",
   "id": "4c93f467",
   "metadata": {},
   "source": [
    "#  4.write a python code to implement .tuple1=(10,50,20,40,30)"
   ]
  },
  {
   "cell_type": "code",
   "execution_count": 36,
   "id": "a96eb99b",
   "metadata": {},
   "outputs": [
    {
     "data": {
      "text/plain": [
       "(10, 50, 20, 40, 30)"
      ]
     },
     "execution_count": 36,
     "metadata": {},
     "output_type": "execute_result"
    }
   ],
   "source": [
    "# Define the tuple\n",
    "tuple1 = (10, 50, 20, 40, 30)\n",
    "tuple1"
   ]
  },
  {
   "cell_type": "code",
   "execution_count": 39,
   "id": "451ece96",
   "metadata": {},
   "outputs": [
    {
     "data": {
      "text/plain": [
       "50"
      ]
     },
     "execution_count": 39,
     "metadata": {},
     "output_type": "execute_result"
    }
   ],
   "source": [
    "# 1. Display the elements 10 and 50 from tuple1\n",
    "element_10 = tuple1[0]\n",
    "element_50 = tuple1[1]\n",
    "element_10\n",
    "element_50"
   ]
  },
  {
   "cell_type": "code",
   "execution_count": 40,
   "id": "e5890116",
   "metadata": {},
   "outputs": [
    {
     "data": {
      "text/plain": [
       "5"
      ]
     },
     "execution_count": 40,
     "metadata": {},
     "output_type": "execute_result"
    }
   ],
   "source": [
    "# 2. Display the length of tuple1\n",
    "length_tuple1 = len(tuple1)\n",
    "length_tuple1"
   ]
  },
  {
   "cell_type": "code",
   "execution_count": 41,
   "id": "e218e49b",
   "metadata": {},
   "outputs": [
    {
     "data": {
      "text/plain": [
       "10"
      ]
     },
     "execution_count": 41,
     "metadata": {},
     "output_type": "execute_result"
    }
   ],
   "source": [
    "# 3. Find the minimum element from tuple1\n",
    "min_element = min(tuple1)\n",
    "min_element"
   ]
  },
  {
   "cell_type": "code",
   "execution_count": 45,
   "id": "bac2dcee",
   "metadata": {},
   "outputs": [
    {
     "data": {
      "text/plain": [
       "(10, 50, 20, 40, 30, 60, 60, 60)"
      ]
     },
     "execution_count": 45,
     "metadata": {},
     "output_type": "execute_result"
    }
   ],
   "source": [
    "# 4. Add an element to tuple1 (Tuples are immutable, so we need to create a new tuple)\n",
    "new_element = 60\n",
    "tuple1 = tuple1 + (new_element,)\n",
    "tuple1"
   ]
  },
  {
   "cell_type": "code",
   "execution_count": 14,
   "id": "b7dea69f",
   "metadata": {},
   "outputs": [
    {
     "data": {
      "text/plain": [
       "(10, 50, 20, 40, 30, 10, 50, 20, 40, 30, 10, 50, 20, 40, 30)"
      ]
     },
     "execution_count": 14,
     "metadata": {},
     "output_type": "execute_result"
    }
   ],
   "source": [
    "# 5. Display the same tuple1 multiple times\n",
    "tuple1 = (10, 50, 20, 40, 30)\n",
    "tuple1_multipletimes = tuple1 * 3\n",
    "tuple1_multipletimes"
   ]
  },
  {
   "cell_type": "code",
   "execution_count": 13,
   "id": "4c6ac23c",
   "metadata": {},
   "outputs": [
    {
     "ename": "NameError",
     "evalue": "name 'tuple1' is not defined",
     "output_type": "error",
     "traceback": [
      "\u001b[1;31m---------------------------------------------------------------------------\u001b[0m",
      "\u001b[1;31mNameError\u001b[0m                                 Traceback (most recent call last)",
      "Cell \u001b[1;32mIn[13], line 2\u001b[0m\n\u001b[0;32m      1\u001b[0m \u001b[38;5;66;03m# Display the results\u001b[39;00m\n\u001b[1;32m----> 2\u001b[0m \u001b[38;5;28mprint\u001b[39m(\u001b[38;5;124m\"\u001b[39m\u001b[38;5;124mTuple1:\u001b[39m\u001b[38;5;124m\"\u001b[39m, tuple1)\n\u001b[0;32m      3\u001b[0m \u001b[38;5;28mprint\u001b[39m(\u001b[38;5;124m\"\u001b[39m\u001b[38;5;124mElement 10:\u001b[39m\u001b[38;5;124m\"\u001b[39m, element_10)\n\u001b[0;32m      4\u001b[0m \u001b[38;5;28mprint\u001b[39m(\u001b[38;5;124m\"\u001b[39m\u001b[38;5;124mElement 50:\u001b[39m\u001b[38;5;124m\"\u001b[39m, element_50)\n",
      "\u001b[1;31mNameError\u001b[0m: name 'tuple1' is not defined"
     ]
    }
   ],
   "source": [
    "# Display the results\n",
    "print(\"Tuple1:\", tuple1)\n",
    "print(\"Element 10:\", element_10)\n",
    "print(\"Element 50:\", element_50)\n",
    "print(\"Length of Tuple1:\", length_tuple1)\n",
    "print(\"Minimum Element:\", min_element)\n",
    "print(\"Tuple1 After Adding Element:\", tuple1)\n",
    "print(\"Tuple1 Multiple Times:\", tuple1_multipletimes)"
   ]
  },
  {
   "cell_type": "markdown",
   "id": "ba0ae78a",
   "metadata": {},
   "source": [
    "# 5. write a python program:\n",
    "    "
   ]
  },
  {
   "cell_type": "code",
   "execution_count": 50,
   "id": "e7c37df4",
   "metadata": {},
   "outputs": [
    {
     "data": {
      "text/plain": [
       "14"
      ]
     },
     "execution_count": 50,
     "metadata": {},
     "output_type": "execute_result"
    }
   ],
   "source": [
    "# 1. Calculate the length of the string\n",
    "input_string = \"Hello, Vishal!\"\n",
    "length = len(input_string)\n",
    "length\n"
   ]
  },
  {
   "cell_type": "code",
   "execution_count": 53,
   "id": "949033bd",
   "metadata": {},
   "outputs": [
    {
     "data": {
      "text/plain": [
       "'Vishal! Hello,'"
      ]
     },
     "execution_count": 53,
     "metadata": {},
     "output_type": "execute_result"
    }
   ],
   "source": [
    "# 2. Reverse the words in the string\n",
    "reversed_string = ' '.join(input_string.split()[::-1])\n",
    "reversed_string"
   ]
  },
  {
   "cell_type": "code",
   "execution_count": 56,
   "id": "dca5de27",
   "metadata": {},
   "outputs": [
    {
     "data": {
      "text/plain": [
       "'Hello, Vishal!Hello, Vishal!Hello, Vishal!'"
      ]
     },
     "execution_count": 56,
     "metadata": {},
     "output_type": "execute_result"
    }
   ],
   "source": [
    "# 3. Display the same string multiple times\n",
    "string_multipletimes = input_string * 3\n",
    "string_multipletimes"
   ]
  },
  {
   "cell_type": "code",
   "execution_count": 57,
   "id": "55896386",
   "metadata": {},
   "outputs": [
    {
     "data": {
      "text/plain": [
       "'good evening'"
      ]
     },
     "execution_count": 57,
     "metadata": {},
     "output_type": "execute_result"
    }
   ],
   "source": [
    "# 4. Concatenate two strings\n",
    "str1 = \"good\"\n",
    "str2 = \"evening\"\n",
    "concatenated_string = str1 + \" \" + str2\n",
    "concatenated_string"
   ]
  },
  {
   "cell_type": "code",
   "execution_count": 58,
   "id": "0f792518",
   "metadata": {},
   "outputs": [
    {
     "data": {
      "text/plain": [
       "'india'"
      ]
     },
     "execution_count": 58,
     "metadata": {},
     "output_type": "execute_result"
    }
   ],
   "source": [
    "# 5. Using string slicing to display \"india\" from \"South india\"\n",
    "str3 = \"South india\"\n",
    "india_part = str3[6:]\n",
    "india_part\n"
   ]
  },
  {
   "cell_type": "code",
   "execution_count": 59,
   "id": "03abc163",
   "metadata": {},
   "outputs": [
    {
     "name": "stdout",
     "output_type": "stream",
     "text": [
      "Original String: Hello, Vishal!\n",
      "Length of the String: 14\n",
      "Reversed String: Vishal! Hello,\n",
      "String Multiple Times: Hello, Vishal!Hello, Vishal!Hello, Vishal!\n",
      "Concatenated String: good evening\n",
      "Substring 'india': india\n"
     ]
    }
   ],
   "source": [
    "# Display the results\n",
    "print(\"Original String:\", input_string)\n",
    "print(\"Length of the String:\", length)\n",
    "print(\"Reversed String:\", reversed_string)\n",
    "print(\"String Multiple Times:\", string_multipletimes)\n",
    "print(\"Concatenated String:\", concatenated_string)\n",
    "print(\"Substring 'india':\", india_part)"
   ]
  },
  {
   "cell_type": "markdown",
   "id": "380be931",
   "metadata": {},
   "source": [
    "# 6.perform the folowing:\n",
    "   "
   ]
  },
  {
   "cell_type": "code",
   "execution_count": 60,
   "id": "572dc609",
   "metadata": {},
   "outputs": [
    {
     "data": {
      "text/plain": [
       "{'name': 'vishal', 'age': 23, 'city': 'Ghaziabad'}"
      ]
     },
     "execution_count": 60,
     "metadata": {},
     "output_type": "execute_result"
    }
   ],
   "source": [
    "# 1. Creating a dictionary\n",
    "my_dict = {'name': 'vishal', 'age': 23, 'city': 'Ghaziabad'}\n",
    "my_dict"
   ]
  },
  {
   "cell_type": "code",
   "execution_count": 63,
   "id": "abb1475a",
   "metadata": {},
   "outputs": [
    {
     "data": {
      "text/plain": [
       "('vishal', 'Ghaziabad', 23)"
      ]
     },
     "execution_count": 63,
     "metadata": {},
     "output_type": "execute_result"
    }
   ],
   "source": [
    "# 2. Accessing values and keys in the dictionary\n",
    "name = my_dict['name']\n",
    "age = my_dict['age']\n",
    "city = my_dict['city']\n",
    "name,city, age"
   ]
  },
  {
   "cell_type": "code",
   "execution_count": 64,
   "id": "d0067634",
   "metadata": {},
   "outputs": [
    {
     "data": {
      "text/plain": [
       "{'name': 'vishal', 'age': 23, 'city': 'Ghaziabad', 'job': 'Engineer'}"
      ]
     },
     "execution_count": 64,
     "metadata": {},
     "output_type": "execute_result"
    }
   ],
   "source": [
    "# 3. Updating the dictionary using a function\n",
    "def update_dictionary(d, key, value):\n",
    "    d[key] = value\n",
    "\n",
    "update_dictionary(my_dict, 'job', 'Engineer')\n",
    "my_dict"
   ]
  },
  {
   "cell_type": "code",
   "execution_count": 70,
   "id": "9b6e426f",
   "metadata": {},
   "outputs": [],
   "source": [
    "\n",
    "# 4. Clear and delete the dictionary\n",
    "my_dict = {'name': 'vishal', 'age': 23, 'city': 'Ghaziabad','job': 'Engineer'}\n",
    "my_dict.clear()\n",
    "del my_dict"
   ]
  },
  {
   "cell_type": "code",
   "execution_count": 71,
   "id": "18a43df4",
   "metadata": {},
   "outputs": [
    {
     "ename": "NameError",
     "evalue": "name 'my_dict' is not defined",
     "output_type": "error",
     "traceback": [
      "\u001b[1;31m---------------------------------------------------------------------------\u001b[0m",
      "\u001b[1;31mNameError\u001b[0m                                 Traceback (most recent call last)",
      "Cell \u001b[1;32mIn[71], line 2\u001b[0m\n\u001b[0;32m      1\u001b[0m \u001b[38;5;66;03m# Display the results\u001b[39;00m\n\u001b[1;32m----> 2\u001b[0m \u001b[38;5;28mprint\u001b[39m(\u001b[38;5;124m\"\u001b[39m\u001b[38;5;124mOriginal Dictionary:\u001b[39m\u001b[38;5;124m\"\u001b[39m, my_dict) \n\u001b[0;32m      3\u001b[0m \u001b[38;5;28mprint\u001b[39m(\u001b[38;5;124m\"\u001b[39m\u001b[38;5;124mName:\u001b[39m\u001b[38;5;124m\"\u001b[39m, name)\n\u001b[0;32m      4\u001b[0m \u001b[38;5;28mprint\u001b[39m(\u001b[38;5;124m\"\u001b[39m\u001b[38;5;124mAge:\u001b[39m\u001b[38;5;124m\"\u001b[39m, age)\n",
      "\u001b[1;31mNameError\u001b[0m: name 'my_dict' is not defined"
     ]
    }
   ],
   "source": [
    "# Display the results\n",
    "print(\"Original Dictionary:\", my_dict) \n",
    "print(\"Name:\", name)\n",
    "print(\"Age:\", age)\n",
    "print(\"City:\", city)"
   ]
  },
  {
   "cell_type": "markdown",
   "id": "9389f2c1",
   "metadata": {},
   "source": [
    "# 7.python program to insert a number to any position in a list."
   ]
  },
  {
   "cell_type": "code",
   "execution_count": 75,
   "id": "0f5523ba",
   "metadata": {},
   "outputs": [
    {
     "name": "stdout",
     "output_type": "stream",
     "text": [
      "Original List :  [1, 2, 3, 4, 5]\n",
      "Updated List: [1, 2, 6, 3, 4, 5]\n"
     ]
    }
   ],
   "source": [
    "my_list = [1, 2, 3, 4, 5]\n",
    "print(\"Original List : \" , my_list)\n",
    "number_to_insert = 6\n",
    "position = 2\n",
    "my_list.insert(position, number_to_insert)\n",
    "print(\"Updated List:\", my_list)\n"
   ]
  },
  {
   "cell_type": "markdown",
   "id": "3d7c2f72",
   "metadata": {},
   "source": [
    "# 8.python program to delete a number from a list by index."
   ]
  },
  {
   "cell_type": "code",
   "execution_count": 76,
   "id": "b6f5502b",
   "metadata": {},
   "outputs": [
    {
     "name": "stdout",
     "output_type": "stream",
     "text": [
      "Original List :  [1, 2, 3, 4, 5]\n",
      "Updated List: [1, 2, 4, 5]\n"
     ]
    }
   ],
   "source": [
    "my_list = [1, 2, 3, 4, 5]\n",
    "print(\"Original List : \" , my_list)\n",
    "index_to_delete = 2\n",
    "if 0 <= index_to_delete < len(my_list):\n",
    "    my_list.pop(index_to_delete)\n",
    "else:\n",
    "    print(\"Invalid index\")\n",
    "print(\"Updated List:\", my_list)\n"
   ]
  },
  {
   "cell_type": "markdown",
   "id": "597e5126",
   "metadata": {},
   "source": [
    "# 9.write a program to display a number from 1 to 100."
   ]
  },
  {
   "cell_type": "code",
   "execution_count": 10,
   "id": "cfb8cd72",
   "metadata": {},
   "outputs": [
    {
     "name": "stdout",
     "output_type": "stream",
     "text": [
      "1 2 3 4 5 6 7 8 9 10 11 12 13 14 15 16 17 18 19 20 21 22 23 24 25 26 27 28 29 30 31 32 33 34 35 36 37 38 39 40 41 42 43 44 45 46 47 48 49 50 51 52 53 54 55 56 57 58 59 60 61 62 63 64 65 66 67 68 69 70 71 72 73 74 75 76 77 78 79 80 81 82 83 84 85 86 87 88 89 90 91 92 93 94 95 96 97 98 99 100 "
     ]
    }
   ],
   "source": [
    "#  to display numbers from 1 to 100\n",
    "for number in range(1, 101):\n",
    "    print(number,end = \" \")\n"
   ]
  },
  {
   "cell_type": "markdown",
   "id": "a4ac22eb",
   "metadata": {},
   "source": [
    "# 10.write a Python program to find the sum of all items in a tuple."
   ]
  },
  {
   "cell_type": "code",
   "execution_count": 78,
   "id": "45b0b9a8",
   "metadata": {},
   "outputs": [
    {
     "name": "stdout",
     "output_type": "stream",
     "text": [
      "Sum of Items: 15\n"
     ]
    }
   ],
   "source": [
    "my_tuple = (1, 2, 3, 4, 5)\n",
    "sum_of_items = 0\n",
    "for item in my_tuple:\n",
    "    sum_of_items += item\n",
    "print(\"Sum of Items:\", sum_of_items)\n"
   ]
  },
  {
   "cell_type": "markdown",
   "id": "2dba8535",
   "metadata": {},
   "source": [
    "# 11. Create a dictionary containing three lambda functions square, cube and square root. E.g. dict('Square' function for squaring, 'Cube': function for cube, 'Squareroot function for square root) Pass the values (input from the user) to the functions in the dictionary respectively. Then add the outputs of each function and print it.\n"
   ]
  },
  {
   "cell_type": "markdown",
   "id": "f3b2729a",
   "metadata": {},
   "source": [
    "# 12. A list of words is given. Find the words from the list that have their second character in uppercase.\n",
    " \n",
    " Is=['hello' 'Dear' 'how' 'ARe' 'You']"
   ]
  },
  {
   "cell_type": "code",
   "execution_count": 1,
   "id": "4dd6eb03",
   "metadata": {},
   "outputs": [
    {
     "name": "stdout",
     "output_type": "stream",
     "text": [
      "Words with the second character in uppercase:\n",
      "['ARe']\n"
     ]
    }
   ],
   "source": [
    "words_list = ['hello', 'Dear', 'how', 'ARe', 'You']\n",
    "result_words = []\n",
    "for word in words_list:\n",
    "    if word[1].isupper():\n",
    "        result_words.append(word)\n",
    "print(\"Words with the second character in uppercase:\")\n",
    "print(result_words)\n"
   ]
  },
  {
   "cell_type": "markdown",
   "id": "26b2c4e5",
   "metadata": {},
   "source": [
    "#  13. A dictionary of names and their weights on earth is given. Find how much they will weigh on the moon. (Use map and lambda functions)Formula wMoon = (wEarth * GMoon) / GEarth Weight of people in kg  Weight On Earth = ['John':45, 'Shelly':65, 'Marry':35)Gravitational force on the Moon: 1.622 m/s2GMoon = 1.622 Gravitational force on the Earth: 9.81 m/s2 GEarth = 9.81"
   ]
  },
  {
   "cell_type": "code",
   "execution_count": 2,
   "id": "a98d1acc",
   "metadata": {},
   "outputs": [
    {
     "name": "stdout",
     "output_type": "stream",
     "text": [
      "Weights on the Moon:\n",
      "John: 7.440366972477065 kg\n",
      "Shelly: 10.747196738022426 kg\n",
      "Marry: 5.786952089704383 kg\n"
     ]
    }
   ],
   "source": [
    "weight_on_earth = {'John': 45, 'Shelly': 65, 'Marry': 35}\n",
    "GMoon = 1.622  \n",
    "GEarth = 9.81  \n",
    "weights_on_moon = list(map(lambda w: (w * GMoon) / GEarth, weight_on_earth.values()))\n",
    "weight_on_moon = dict(zip(weight_on_earth.keys(), weights_on_moon))\n",
    "print(\"Weights on the Moon:\")\n",
    "for name, weight in weight_on_moon.items():\n",
    "    print(\"{}: {} kg\".format(name,weight))"
   ]
  },
  {
   "cell_type": "markdown",
   "id": "f40da77c",
   "metadata": {},
   "source": [
    "# Control Structures :"
   ]
  },
  {
   "cell_type": "markdown",
   "id": "84519e28",
   "metadata": {},
   "source": [
    "# 1. Write a python program to find the first N Prime numbers."
   ]
  },
  {
   "cell_type": "code",
   "execution_count": 3,
   "id": "17b667a6",
   "metadata": {},
   "outputs": [
    {
     "name": "stdout",
     "output_type": "stream",
     "text": [
      "Enter the value of 'N': 20\n",
      "2 3 5 7 11 13 17 19 "
     ]
    }
   ],
   "source": [
    "def isPrime(n):\n",
    "    if n <= 1:\n",
    "        return False\n",
    "\n",
    "    for i in range(2, n):\n",
    "        if n % i == 0:\n",
    "            return False\n",
    "\n",
    "    return True\n",
    "N = int(input(\"Enter the value of 'N': \"))\n",
    "for i in range(2, N + 1):\n",
    "    if isPrime(i):\n",
    "        print(i, end=\" \")\n"
   ]
  },
  {
   "cell_type": "markdown",
   "id": "8cfd068e",
   "metadata": {},
   "source": [
    "# 2. Wite the python code that calculates the salary of an employee. Prompt the user to enter the Basic Salary, HRA, TA, and DA. Add these components to calculate the Gross Salary. Also, deduct 10% of salary from the Gross Salary to be paid as tax and display gross minus tax as net salary.\n"
   ]
  },
  {
   "cell_type": "code",
   "execution_count": 4,
   "id": "219ef5c4",
   "metadata": {},
   "outputs": [
    {
     "name": "stdout",
     "output_type": "stream",
     "text": [
      "Enter Basic Salary: 100000\n",
      "Enter HRA: 10000\n",
      "Enter TA: 7000\n",
      "Enter DA: 5000\n",
      "Gross Salary: 122000.0\n",
      "Tax: 12200.0\n",
      "Net Salary: 109800.0\n"
     ]
    }
   ],
   "source": [
    "basic_salary = float(input(\"Enter Basic Salary: \"))\n",
    "hra = int(input(\"Enter HRA: \"))\n",
    "ta = int(input(\"Enter TA: \"))\n",
    "da = int(input(\"Enter DA: \"))\n",
    "\n",
    "gross_salary = basic_salary + hra + ta + da\n",
    "\n",
    "tax = 0.10 * gross_salary\n",
    "\n",
    "net_salary = gross_salary - tax\n",
    "\n",
    "print(\"Gross Salary: {}\".format(gross_salary))\n",
    "print(\"Tax: {}\".format(tax))\n",
    "print(\"Net Salary: {}\".format(net_salary))"
   ]
  },
  {
   "cell_type": "markdown",
   "id": "4df33cb7",
   "metadata": {},
   "source": [
    "# 3. Write a python program to search for a string in the given list.\n"
   ]
  },
  {
   "cell_type": "code",
   "execution_count": 5,
   "id": "8782ee28",
   "metadata": {},
   "outputs": [
    {
     "name": "stdout",
     "output_type": "stream",
     "text": [
      "Enter the string to search for: date\n",
      "The string 'date' was found in the list.\n"
     ]
    }
   ],
   "source": [
    "string_list = [\"apple\", \"banana\", \"cherry\", \"date\", \"grape\"]\n",
    "search_string = input(\"Enter the string to search for: \")\n",
    "found = False\n",
    "\n",
    "for s in string_list:\n",
    "    if search_string.lower() == s.lower():\n",
    "        found = True\n",
    "        break\n",
    "\n",
    "if found:\n",
    "    print(\"The string '{}' was found in the list.\".format(search_string))\n",
    "else:\n",
    "    print(\"The string '{}' was not found in the list.\".format(search_string))\n"
   ]
  },
  {
   "cell_type": "markdown",
   "id": "67aa3c5f",
   "metadata": {},
   "source": [
    "# 4. Write a Python function that accepts a string and calculates the number of upper-case letters and lower-case letters.\n"
   ]
  },
  {
   "cell_type": "code",
   "execution_count": 6,
   "id": "87fbd88c",
   "metadata": {},
   "outputs": [
    {
     "name": "stdout",
     "output_type": "stream",
     "text": [
      "Enter a string: India Wins Against Srilanka.\n",
      "Uppercase letters: 4\n",
      "Lowercase letters: 20\n"
     ]
    }
   ],
   "source": [
    "def count_upper_and_lower_case_letters(input_string):\n",
    "    uppercase_count = 0\n",
    "    lowercase_count = 0\n",
    "\n",
    "    for char in input_string:\n",
    "        if char.isupper():\n",
    "            uppercase_count += 1\n",
    "        elif char.islower():\n",
    "            lowercase_count += 1\n",
    "\n",
    "    return uppercase_count, lowercase_count\n",
    "\n",
    "user_string = input(\"Enter a string: \")\n",
    "\n",
    "uppercase, lowercase = count_upper_and_lower_case_letters(user_string)\n",
    "\n",
    "print(\"Uppercase letters: {}\".format(uppercase))\n",
    "print(\"Lowercase letters: {}\".format(lowercase))"
   ]
  },
  {
   "cell_type": "markdown",
   "id": "5c24173e",
   "metadata": {},
   "source": [
    "# 5. Write a program to display the sum of odd numbers and even numbers that fall between 12 and 37."
   ]
  },
  {
   "cell_type": "code",
   "execution_count": 7,
   "id": "3d114e82",
   "metadata": {},
   "outputs": [
    {
     "name": "stdout",
     "output_type": "stream",
     "text": [
      "Sum of even numbers between 12 and 37: 312\n",
      "Sum of odd numbers between 12 and 37: 325\n"
     ]
    }
   ],
   "source": [
    "even_sum = 0\n",
    "odd_sum = 0\n",
    "\n",
    "for num in range(12, 38):\n",
    "    if num % 2 == 0:\n",
    "        even_sum += num \n",
    "    else:\n",
    "        odd_sum += num \n",
    "\n",
    "print(\"Sum of even numbers between 12 and 37: {}\".format(even_sum))\n",
    "print(\"Sum of odd numbers between 12 and 37: {}\".format(odd_sum))"
   ]
  },
  {
   "cell_type": "markdown",
   "id": "b8603f50",
   "metadata": {},
   "source": [
    "# 6. Write a python Program to print the table of any number."
   ]
  },
  {
   "cell_type": "code",
   "execution_count": 8,
   "id": "aad3b95b",
   "metadata": {},
   "outputs": [
    {
     "name": "stdout",
     "output_type": "stream",
     "text": [
      "Enter a number to print its multiplication table: 12\n",
      "Multiplication table for 12:\n",
      "12 x 1 = 12\n",
      "12 x 2 = 24\n",
      "12 x 3 = 36\n",
      "12 x 4 = 48\n",
      "12 x 5 = 60\n",
      "12 x 6 = 72\n",
      "12 x 7 = 84\n",
      "12 x 8 = 96\n",
      "12 x 9 = 108\n",
      "12 x 10 = 120\n"
     ]
    }
   ],
   "source": [
    "num = int(input(\"Enter a number to print its multiplication table: \"))\n",
    "\n",
    "table_range = range(1, 11)\n",
    "\n",
    "print(\"Multiplication table for {}:\".format(num))\n",
    "for i in table_range:\n",
    "    result = num * i\n",
    "    print(\"{} x {} = {}\".format(num,i,result))"
   ]
  },
  {
   "cell_type": "markdown",
   "id": "64bedd44",
   "metadata": {},
   "source": [
    "# 7.Write a Python program to sum the first 10 prime numbers."
   ]
  },
  {
   "cell_type": "code",
   "execution_count": 9,
   "id": "72cd9530",
   "metadata": {},
   "outputs": [
    {
     "name": "stdout",
     "output_type": "stream",
     "text": [
      "The sum of the first 10 prime numbers is: 129\n"
     ]
    }
   ],
   "source": [
    "count_primes = 0\n",
    "sum_primes = 0\n",
    "num = 2 \n",
    "\n",
    "def is_prime(n):\n",
    "    if n <= 1:\n",
    "        return False\n",
    "\n",
    "    for i in range(2, n):\n",
    "        if n % i == 0:\n",
    "            return False\n",
    "\n",
    "    return True\n",
    "\n",
    "while count_primes < 10:\n",
    "    if is_prime(num):\n",
    "        sum_primes += num\n",
    "        count_primes += 1\n",
    "    num += 1\n",
    "\n",
    "print(\"The sum of the first 10 prime numbers is: {}\".format(sum_primes))\n"
   ]
  },
  {
   "cell_type": "markdown",
   "id": "3f986ada",
   "metadata": {},
   "source": [
    "# 8. Write a python program to implement arithmetic operations using nested if statement."
   ]
  },
  {
   "cell_type": "code",
   "execution_count": 10,
   "id": "34157779",
   "metadata": {},
   "outputs": [
    {
     "name": "stdout",
     "output_type": "stream",
     "text": [
      "Enter the first number: 12\n",
      "Enter the second number: 7\n",
      "Enter the operation (+, -, *, /): *\n",
      "Result: 84.0\n"
     ]
    }
   ],
   "source": [
    "num1 = float(input(\"Enter the first number: \"))\n",
    "num2 = float(input(\"Enter the second number: \"))\n",
    "operation = input(\"Enter the operation (+, -, *, /): \")\n",
    "\n",
    "result = None\n",
    "\n",
    "if operation == \"+\":\n",
    "    result = num1 + num2\n",
    "elif operation == \"-\":\n",
    "    result = num1 - num2\n",
    "elif operation == \"*\":\n",
    "    result = num1 * num2\n",
    "elif operation == \"/\":\n",
    "    if num2 == 0:\n",
    "        print(\"Error: Division by zero is not allowed.\")\n",
    "    else:\n",
    "        result = num1 / num2\n",
    "else:\n",
    "    print(\"Invalid operation!\")\n",
    "\n",
    "if result is not None:\n",
    "    print(\"Result: {}\".format(result))"
   ]
  },
  {
   "cell_type": "markdown",
   "id": "12a630b0",
   "metadata": {},
   "source": [
    "# 9. Write a python program to take the temperature in Celsius and convert it to a Fahrenheit."
   ]
  },
  {
   "cell_type": "code",
   "execution_count": 11,
   "id": "d0a680c9",
   "metadata": {},
   "outputs": [
    {
     "name": "stdout",
     "output_type": "stream",
     "text": [
      "Enter the temperature in Celsius: 30\n",
      "The temperature in Fahrenheit is: 86.0°F\n"
     ]
    }
   ],
   "source": [
    "celsius = float(input(\"Enter the temperature in Celsius: \"))\n",
    "fahrenheit = (celsius * 9/5) + 32\n",
    "print(\"The temperature in Fahrenheit is: {}°F\".format(fahrenheit))"
   ]
  },
  {
   "cell_type": "markdown",
   "id": "38a66988",
   "metadata": {},
   "source": [
    "# 10. Write a python program to find a maximum and minimum number in a list without using an inbuilt function.\n"
   ]
  },
  {
   "cell_type": "code",
   "execution_count": 15,
   "id": "70b8e463",
   "metadata": {},
   "outputs": [
    {
     "name": "stdout",
     "output_type": "stream",
     "text": [
      "Enter a list of numbers separated by spaces: 1 3 4\n",
      "Maximum number: 4\n",
      "Minimum number: 1\n"
     ]
    }
   ],
   "source": [
    "numbers = input(\"Enter a list of numbers separated by spaces: \").split()\n",
    "\n",
    "numbers = [int(num) for num in numbers]\n",
    "\n",
    "max_num = numbers[0]\n",
    "min_num = numbers[0]\n",
    "\n",
    "for num in numbers:\n",
    "    if num > max_num:\n",
    "        max_num = num\n",
    "    if num < min_num:\n",
    "        min_num = num\n",
    "\n",
    "print(\"Maximum number: {}\".format(max_num))\n",
    "print(\"Minimum number: {}\".format(min_num))"
   ]
  },
  {
   "cell_type": "markdown",
   "id": "1eedaa33",
   "metadata": {},
   "source": [
    "# 11. Write a program in python to print out the number of seconds in 30-day month 30 days, 24 hours in a day, 60 minutes per day, 60 seconds in a minute."
   ]
  },
  {
   "cell_type": "code",
   "execution_count": 1,
   "id": "0cdb459b",
   "metadata": {},
   "outputs": [
    {
     "name": "stdout",
     "output_type": "stream",
     "text": [
      "Number of seconds in a 30-day month: 2592000\n"
     ]
    }
   ],
   "source": [
    "days_in_month = 30\n",
    "hours_in_day = 24\n",
    "minutes_in_hour = 60\n",
    "seconds_in_minute = 60\n",
    "\n",
    "seconds_in_30_days = days_in_month * hours_in_day * minutes_in_hour * seconds_in_minute\n",
    "print(\"Number of seconds in a 30-day month:\", seconds_in_30_days)\n"
   ]
  },
  {
   "cell_type": "markdown",
   "id": "83ab270a",
   "metadata": {},
   "source": [
    "# 12. Write a program in python to print out the number of seconds in a year\n"
   ]
  },
  {
   "cell_type": "code",
   "execution_count": 2,
   "id": "26bc533b",
   "metadata": {},
   "outputs": [
    {
     "name": "stdout",
     "output_type": "stream",
     "text": [
      "Number of seconds in a year: 31536000\n"
     ]
    }
   ],
   "source": [
    "days_in_year = 365\n",
    "seconds_in_a_year = days_in_year * hours_in_day * minutes_in_hour * seconds_in_minute\n",
    "print(\"Number of seconds in a year:\", seconds_in_a_year)\n"
   ]
  },
  {
   "cell_type": "markdown",
   "id": "3aea0b64",
   "metadata": {},
   "source": [
    "# 13. A high-speed train can travel at an average speed of 150 mph, how long will it take a train travelling at this speed to travel from London to Glasgow which is 414 miles away?\n"
   ]
  },
  {
   "cell_type": "code",
   "execution_count": 3,
   "id": "a6014d09",
   "metadata": {},
   "outputs": [
    {
     "name": "stdout",
     "output_type": "stream",
     "text": [
      "Time to travel from London to Glasgow: 2.76 hours\n"
     ]
    }
   ],
   "source": [
    "average_speed_mph = 150\n",
    "distance_in_miles = 414\n",
    "\n",
    "time_hours = distance_in_miles / average_speed_mph\n",
    "print(\"Time to travel from London to Glasgow:\", time_hours, \"hours\")\n"
   ]
  },
  {
   "cell_type": "markdown",
   "id": "3824fd8c",
   "metadata": {},
   "source": [
    "# 14. Write a python program that defines a variable called days_in_each_school_year and assign 192 to the variable. The program should then print out the total hours that you spend in school from year 7 to year 11, if each day you spend 6 hours in school days_in_each_school_year-192 "
   ]
  },
  {
   "cell_type": "code",
   "execution_count": 6,
   "id": "4cd40a32",
   "metadata": {},
   "outputs": [
    {
     "name": "stdout",
     "output_type": "stream",
     "text": [
      "Total hours spent in school from year 7 to year 11: 5760 hours\n"
     ]
    }
   ],
   "source": [
    "days_in_each_school_year = 192\n",
    "total_hours_in_school = (11 - 7 + 1) * days_in_each_school_year * 6\n",
    "\n",
    "print(\"Total hours spent in school from year 7 to year 11:\", total_hours_in_school, \"hours\")\n",
    "\n"
   ]
  },
  {
   "cell_type": "markdown",
   "id": "9adbb980",
   "metadata": {},
   "source": [
    "# 15 if the age of Ram,Sam and Khan are input through the determine the eldest and youngest of the three. keyboard,write a python program"
   ]
  },
  {
   "cell_type": "code",
   "execution_count": 5,
   "id": "c982d2f2",
   "metadata": {},
   "outputs": [
    {
     "name": "stdout",
     "output_type": "stream",
     "text": [
      "Enter Ram's age: 21\n",
      "Enter Sam's age: 17\n",
      "Enter Khan's age: 19\n",
      "Oldest: 21 years old\n",
      "Youngest: 17 years old\n"
     ]
    }
   ],
   "source": [
    "ram_age = int(input(\"Enter Ram's age: \"))\n",
    "sam_age = int(input(\"Enter Sam's age: \"))\n",
    "khan_age = int(input(\"Enter Khan's age: \"))\n",
    "\n",
    "ages = [ram_age, sam_age, khan_age]\n",
    "oldest = max(ages)\n",
    "youngest = min(ages)\n",
    "\n",
    "print(\"Oldest:\", oldest, \"years old\")\n",
    "print(\"Youngest:\", youngest, \"years old\")"
   ]
  },
  {
   "cell_type": "markdown",
   "id": "fa91aeb8",
   "metadata": {},
   "source": [
    "# 16. Write a python program to rotate a list by right n times with and without slicing technique.\n",
    "\n",
    "\n"
   ]
  },
  {
   "cell_type": "code",
   "execution_count": 8,
   "id": "9c077b1c",
   "metadata": {},
   "outputs": [
    {
     "name": "stdout",
     "output_type": "stream",
     "text": [
      "Original List: [1, 2, 3, 4, 5]\n",
      "Rotated List with Slicing: [4, 5, 1, 2, 3]\n"
     ]
    }
   ],
   "source": [
    "# using slicing \n",
    "def rotate_list_with_slicing(lst, n):\n",
    "    n %= len(lst)\n",
    "    return lst[-n:] + lst[:-n]\n",
    "\n",
    "original_list = [1, 2, 3, 4, 5]\n",
    "n = 2\n",
    "rotated_list = rotate_list_with_slicing(original_list, n)\n",
    "print(\"Original List:\", original_list)\n",
    "print(\"Rotated List with Slicing:\", rotated_list)\n"
   ]
  },
  {
   "cell_type": "code",
   "execution_count": 9,
   "id": "1daa754f",
   "metadata": {},
   "outputs": [
    {
     "name": "stdout",
     "output_type": "stream",
     "text": [
      "Original List: [4, 5, 1, 2, 3]\n",
      "Rotated List without Slicing: [4, 5, 1, 2, 3]\n"
     ]
    }
   ],
   "source": [
    "# without using slicing\n",
    "def rotate_list_without_slicing(lst, n):\n",
    "    n %= len(lst)\n",
    "    for _ in range(n):\n",
    "        last_element = lst.pop()\n",
    "        lst.insert(0, last_element)\n",
    "    return lst\n",
    "\n",
    "original_list = [1, 2, 3, 4, 5]\n",
    "n = 2\n",
    "rotated_list = rotate_list_without_slicing(original_list, n)\n",
    "print(\"Original List:\", original_list)\n",
    "print(\"Rotated List without Slicing:\", rotated_list)\n"
   ]
  },
  {
   "cell_type": "markdown",
   "id": "e6c5cea5",
   "metadata": {},
   "source": [
    "# 17 .Python program to print the patterns given below:\n"
   ]
  },
  {
   "cell_type": "code",
   "execution_count": 5,
   "id": "d8ff61b4",
   "metadata": {},
   "outputs": [
    {
     "name": "stdout",
     "output_type": "stream",
     "text": [
      "1 \n",
      "1 1 \n",
      "1 2 1 \n",
      "1 3 3 1 \n",
      "1 4 6 4 1 \n",
      "1 5 10 10 5 1 \n",
      "1 6 15 20 15 6 1 \n"
     ]
    }
   ],
   "source": [
    "def print_pascal_triangle(size):\n",
    "    for i in range(0, size):\n",
    "        for j in range(0, i + 1):\n",
    "            print(decide_number(i, j), end=\" \")\n",
    "        print()\n",
    "def decide_number(n, k):\n",
    "    num = 1\n",
    "    if k > n - k:\n",
    "        k = n - k\n",
    "    for i in range(0, k):\n",
    "        num = num * (n - i)\n",
    "        num = num // (i + 1)\n",
    "    return num\n",
    "rows = 7\n",
    "print_pascal_triangle(rows)"
   ]
  },
  {
   "cell_type": "code",
   "execution_count": 6,
   "id": "d380b866",
   "metadata": {},
   "outputs": [
    {
     "name": "stdout",
     "output_type": "stream",
     "text": [
      "Enter row number= \n",
      "5\n",
      "#\n",
      "##\n",
      "###\n",
      "####\n",
      "#####\n"
     ]
    }
   ],
   "source": [
    "x=int(input(\"Enter row number= \\n\"))\n",
    "for i in range(x):\n",
    "    for j in range(i+1):\n",
    "        print(\"#\",end='')\n",
    "    print(\"\")"
   ]
  },
  {
   "cell_type": "code",
   "execution_count": 7,
   "id": "90cdffeb",
   "metadata": {},
   "outputs": [
    {
     "name": "stdout",
     "output_type": "stream",
     "text": [
      "      * \r\n",
      "     * * \r\n",
      "    * * * \r\n",
      "   * * * * \r\n",
      "  * * * * * \r\n",
      " * * * * * * \r\n",
      "* * * * * * * \r\n"
     ]
    }
   ],
   "source": [
    "def triangle(n):\n",
    "    k = n - 1\n",
    "    for i in range(0, n):\n",
    "        for j in range(0, k):\n",
    "            print(end=\" \")\n",
    "        k = k - 1\n",
    "        for j in range(0, i+1):\n",
    "            print(\"* \", end=\"\")\n",
    "        print(\"\\r\")\n",
    "n = 7\n",
    "triangle(n)"
   ]
  }
 ],
 "metadata": {
  "kernelspec": {
   "display_name": "Python 3 (ipykernel)",
   "language": "python",
   "name": "python3"
  },
  "language_info": {
   "codemirror_mode": {
    "name": "ipython",
    "version": 3
   },
   "file_extension": ".py",
   "mimetype": "text/x-python",
   "name": "python",
   "nbconvert_exporter": "python",
   "pygments_lexer": "ipython3",
   "version": "3.11.4"
  }
 },
 "nbformat": 4,
 "nbformat_minor": 5
}
