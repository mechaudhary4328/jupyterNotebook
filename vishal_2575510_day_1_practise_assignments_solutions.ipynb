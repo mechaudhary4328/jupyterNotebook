{
 "cells": [
  {
   "cell_type": "markdown",
   "id": "c586b515",
   "metadata": {},
   "source": [
    "# 1.Manipulate using a list.\n",
    "1.to add new elements to the  end of  the list.\n",
    "2.to reverse element in the list.\n",
    "3.to display the same list of elements multiple times.\n",
    "4.to concatenate two list.\n",
    "5.to sort the elements in the list in an ascending order.\n"
   ]
  },
  {
   "cell_type": "code",
   "execution_count": 1,
   "id": "a033b576",
   "metadata": {},
   "outputs": [
    {
     "data": {
      "text/plain": [
       "[1, 'vishal', 3]"
      ]
     },
     "execution_count": 1,
     "metadata": {},
     "output_type": "execute_result"
    }
   ],
   "source": [
    "my_list = [1, 'vishal', 3]\n",
    "my_list\n"
   ]
  },
  {
   "cell_type": "code",
   "execution_count": 2,
   "id": "6de007ec",
   "metadata": {},
   "outputs": [
    {
     "name": "stdout",
     "output_type": "stream",
     "text": [
      "[1, 'vishal', 3, 4]\n"
     ]
    }
   ],
   "source": [
    "my_list.append(4)  # Adds 4 to the end of the list\n",
    "print(my_list)"
   ]
  },
  {
   "cell_type": "code",
   "execution_count": 3,
   "id": "69b266b8",
   "metadata": {},
   "outputs": [
    {
     "name": "stdout",
     "output_type": "stream",
     "text": [
      "[4, 3, 'vishal', 1]\n"
     ]
    }
   ],
   "source": [
    "my_list.reverse()  # Reverses the list in-place\n",
    "print(my_list)"
   ]
  },
  {
   "cell_type": "code",
   "execution_count": 4,
   "id": "b13be219",
   "metadata": {},
   "outputs": [
    {
     "name": "stdout",
     "output_type": "stream",
     "text": [
      "[4, 3, 'vishal', 1, 4, 3, 'vishal', 1, 4, 3, 'vishal', 1]\n"
     ]
    }
   ],
   "source": [
    "result = my_list * 3  # Repeats the list 3 times\n",
    "print(result)"
   ]
  },
  {
   "cell_type": "code",
   "execution_count": 5,
   "id": "491f61c5",
   "metadata": {},
   "outputs": [
    {
     "data": {
      "text/plain": [
       "[4, 3, 'vishal', 1]"
      ]
     },
     "execution_count": 5,
     "metadata": {},
     "output_type": "execute_result"
    }
   ],
   "source": [
    "my_list"
   ]
  },
  {
   "cell_type": "code",
   "execution_count": 6,
   "id": "ddb9738a",
   "metadata": {},
   "outputs": [],
   "source": [
    "my_list.reverse()"
   ]
  },
  {
   "cell_type": "code",
   "execution_count": 7,
   "id": "42ebc856",
   "metadata": {},
   "outputs": [
    {
     "name": "stdout",
     "output_type": "stream",
     "text": [
      "[1, 'vishal', 3, 4]\n"
     ]
    }
   ],
   "source": [
    "print(my_list)"
   ]
  },
  {
   "cell_type": "code",
   "execution_count": 9,
   "id": "4127442f",
   "metadata": {},
   "outputs": [
    {
     "name": "stdout",
     "output_type": "stream",
     "text": [
      "[1, 'vishal', 3, 4, 'yash', 5, 6]\n"
     ]
    }
   ],
   "source": [
    "my_list2 = ['yash', 5, 6]\n",
    "concatenated_list = my_list + my_list2  \n",
    "print(concatenated_list)  \n",
    " \n",
    "\n",
    "\n",
    "\n",
    "\n",
    "\n"
   ]
  },
  {
   "cell_type": "code",
   "execution_count": 11,
   "id": "93898d1c",
   "metadata": {},
   "outputs": [
    {
     "name": "stdout",
     "output_type": "stream",
     "text": [
      "[1, 1, 2, 2, 3, 3, 3, 4, 5, 5, 5, 6, 6, 8, 9, 9]\n"
     ]
    }
   ],
   "source": [
    "my_list1 = [3, 1, 4, 1, 5, 9, 2, 6, 5, 3, 5,8,6,3,2,9]\n",
    "my_list1.sort()  # Sorts the list in ascending order\n",
    "print(my_list1)"
   ]
  },
  {
   "cell_type": "markdown",
   "id": "a83e747f",
   "metadata": {},
   "source": [
    "# 2.write a python program  to do in the tuples.\n"
   ]
  },
  {
   "cell_type": "code",
   "execution_count": 12,
   "id": "9590d2c4",
   "metadata": {},
   "outputs": [
    {
     "data": {
      "text/plain": [
       "(1, 2, 3, 4, 5)"
      ]
     },
     "execution_count": 12,
     "metadata": {},
     "output_type": "execute_result"
    }
   ],
   "source": [
    "# Manipulate tuples\n",
    "my_tuple = (1, 2, 3, 4, 5)\n",
    "my_tuple\n"
   ]
  },
  {
   "cell_type": "code",
   "execution_count": 17,
   "id": "3c794494",
   "metadata": {},
   "outputs": [
    {
     "data": {
      "text/plain": [
       "(1, 2, 3, 4, 5, 6, 7, 6, 7, 6, 7)"
      ]
     },
     "execution_count": 17,
     "metadata": {},
     "output_type": "execute_result"
    }
   ],
   "source": [
    "# 1. Add new elements to the ends of the tuple\n",
    "my_tuple = my_tuple + (6, 7)  # Using concatenation\n",
    "my_tuple"
   ]
  },
  {
   "cell_type": "code",
   "execution_count": 22,
   "id": "6c6697cf",
   "metadata": {},
   "outputs": [
    {
     "data": {
      "text/plain": [
       "(7, 6, 7, 6, 7, 6, 5, 4, 3, 2, 1)"
      ]
     },
     "execution_count": 22,
     "metadata": {},
     "output_type": "execute_result"
    }
   ],
   "source": [
    "# 2. Reverse elements in the tuple\n",
    "reversed_tuple = my_tuple[::-1]\n",
    "reversed_tuple"
   ]
  },
  {
   "cell_type": "code",
   "execution_count": 26,
   "id": "c173953b",
   "metadata": {},
   "outputs": [
    {
     "data": {
      "text/plain": [
       "(1,\n",
       " 2,\n",
       " 3,\n",
       " 4,\n",
       " 5,\n",
       " 6,\n",
       " 7,\n",
       " 6,\n",
       " 7,\n",
       " 6,\n",
       " 7,\n",
       " 1,\n",
       " 2,\n",
       " 3,\n",
       " 4,\n",
       " 5,\n",
       " 6,\n",
       " 7,\n",
       " 6,\n",
       " 7,\n",
       " 6,\n",
       " 7,\n",
       " 1,\n",
       " 2,\n",
       " 3,\n",
       " 4,\n",
       " 5,\n",
       " 6,\n",
       " 7,\n",
       " 6,\n",
       " 7,\n",
       " 6,\n",
       " 7)"
      ]
     },
     "execution_count": 26,
     "metadata": {},
     "output_type": "execute_result"
    }
   ],
   "source": [
    "# 3. Display elements of the same tuple multiple times\n",
    "repeated_tuple = (my_tuple * 3)\n",
    "repeated_tuple"
   ]
  },
  {
   "cell_type": "code",
   "execution_count": 27,
   "id": "15c3d063",
   "metadata": {},
   "outputs": [
    {
     "data": {
      "text/plain": [
       "(1, 2, 3, 4, 5, 6, 7, 8)"
      ]
     },
     "execution_count": 27,
     "metadata": {},
     "output_type": "execute_result"
    }
   ],
   "source": [
    "# 4. Concatenate two tuples\n",
    "my_tuple = (1, 2, 3, 4, 5)\n",
    "my_tuple2 = (6,7,8)\n",
    "concatenated_tuple = my_tuple + my_tuple2\n",
    "concatenated_tuple"
   ]
  },
  {
   "cell_type": "code",
   "execution_count": 28,
   "id": "59a177e0",
   "metadata": {},
   "outputs": [
    {
     "data": {
      "text/plain": [
       "(1, 2, 3, 4, 5)"
      ]
     },
     "execution_count": 28,
     "metadata": {},
     "output_type": "execute_result"
    }
   ],
   "source": [
    "sorted_tuple = tuple(sorted(my_tuple))\n",
    "sorted_tuple"
   ]
  },
  {
   "cell_type": "code",
   "execution_count": 29,
   "id": "3490181f",
   "metadata": {},
   "outputs": [
    {
     "name": "stdout",
     "output_type": "stream",
     "text": [
      "Original Tuple: (1, 2, 3, 4, 5)\n",
      "Reversed Tuple: (7, 6, 7, 6, 7, 6, 5, 4, 3, 2, 1)\n",
      "Repeated Tuple: (1, 2, 3, 4, 5, 6, 7, 6, 7, 6, 7, 1, 2, 3, 4, 5, 6, 7, 6, 7, 6, 7, 1, 2, 3, 4, 5, 6, 7, 6, 7, 6, 7)\n",
      "Concatenated Tuple: (1, 2, 3, 4, 5, 6, 7, 8)\n",
      "Sorted Tuple: (1, 2, 3, 4, 5)\n"
     ]
    }
   ],
   "source": [
    "print(\"Original Tuple:\", my_tuple)\n",
    "print(\"Reversed Tuple:\", reversed_tuple)\n",
    "print(\"Repeated Tuple:\", repeated_tuple)\n",
    "print(\"Concatenated Tuple:\", concatenated_tuple)\n",
    "print(\"Sorted Tuple:\", sorted_tuple)"
   ]
  },
  {
   "cell_type": "markdown",
   "id": "02f2b0d1",
   "metadata": {},
   "source": [
    "# 3. write a python program to implement  the following  using list.\n"
   ]
  },
  {
   "cell_type": "code",
   "execution_count": 30,
   "id": "7ef81a0a",
   "metadata": {},
   "outputs": [
    {
     "data": {
      "text/plain": [
       "[1, 2, 3, 4, 5, 6, 7, 8, 9, 10]"
      ]
     },
     "execution_count": 30,
     "metadata": {},
     "output_type": "execute_result"
    }
   ],
   "source": [
    "# 1. Create a list with integers (minimum 10 numbers)\n",
    "my_list = [1, 2, 3, 4, 5, 6, 7, 8, 9, 10]\n",
    "my_list"
   ]
  },
  {
   "cell_type": "code",
   "execution_count": 31,
   "id": "f44a328a",
   "metadata": {},
   "outputs": [
    {
     "data": {
      "text/plain": [
       "10"
      ]
     },
     "execution_count": 31,
     "metadata": {},
     "output_type": "execute_result"
    }
   ],
   "source": [
    "# 2. Display the last number in the list\n",
    "last_number = my_list[-1]\n",
    "last_number"
   ]
  },
  {
   "cell_type": "code",
   "execution_count": 32,
   "id": "14afa6a9",
   "metadata": {},
   "outputs": [
    {
     "data": {
      "text/plain": [
       "[1, 2, 3, 4]"
      ]
     },
     "execution_count": 32,
     "metadata": {},
     "output_type": "execute_result"
    }
   ],
   "source": [
    "# 3. Display values from the list[0:4]\n",
    "value1 = my_list[0:4]\n",
    "value1\n"
   ]
  },
  {
   "cell_type": "code",
   "execution_count": 33,
   "id": "37578653",
   "metadata": {},
   "outputs": [
    {
     "data": {
      "text/plain": [
       "[3, 4, 5, 6, 7, 8, 9, 10]"
      ]
     },
     "execution_count": 33,
     "metadata": {},
     "output_type": "execute_result"
    }
   ],
   "source": [
    "# 4. Display values from the list[2:]\n",
    "value2 = my_list[2:]\n",
    "value2\n"
   ]
  },
  {
   "cell_type": "code",
   "execution_count": 34,
   "id": "63085466",
   "metadata": {},
   "outputs": [
    {
     "data": {
      "text/plain": [
       "[1, 2, 3, 4, 5, 6]"
      ]
     },
     "execution_count": 34,
     "metadata": {},
     "output_type": "execute_result"
    }
   ],
   "source": [
    "# 5. Display values from the list[:6]\n",
    "value3 = my_list[:6]\n",
    "value3"
   ]
  },
  {
   "cell_type": "code",
   "execution_count": 35,
   "id": "45ab448d",
   "metadata": {},
   "outputs": [
    {
     "name": "stdout",
     "output_type": "stream",
     "text": [
      "Original List: [1, 2, 3, 4, 5, 6, 7, 8, 9, 10]\n",
      "Last Number: 10\n",
      "Values from List[0:4]: [1, 2, 3, 4]\n",
      "Values from List[2:]: [3, 4, 5, 6, 7, 8, 9, 10]\n",
      "Values from List[:6]: [1, 2, 3, 4, 5, 6]\n"
     ]
    }
   ],
   "source": [
    "# Display the results\n",
    "print(\"Original List:\", my_list)\n",
    "print(\"Last Number:\", last_number)\n",
    "print(\"Values from List[0:4]:\", value1)\n",
    "print(\"Values from List[2:]:\", value2)\n",
    "print(\"Values from List[:6]:\", value3)"
   ]
  },
  {
   "cell_type": "markdown",
   "id": "4c93f467",
   "metadata": {},
   "source": [
    "#  4.write a python code to implement .tuple1=(10,50,20,40,30)"
   ]
  },
  {
   "cell_type": "code",
   "execution_count": 36,
   "id": "a96eb99b",
   "metadata": {},
   "outputs": [
    {
     "data": {
      "text/plain": [
       "(10, 50, 20, 40, 30)"
      ]
     },
     "execution_count": 36,
     "metadata": {},
     "output_type": "execute_result"
    }
   ],
   "source": [
    "# Define the tuple\n",
    "tuple1 = (10, 50, 20, 40, 30)\n",
    "tuple1"
   ]
  },
  {
   "cell_type": "code",
   "execution_count": 39,
   "id": "451ece96",
   "metadata": {},
   "outputs": [
    {
     "data": {
      "text/plain": [
       "50"
      ]
     },
     "execution_count": 39,
     "metadata": {},
     "output_type": "execute_result"
    }
   ],
   "source": [
    "# 1. Display the elements 10 and 50 from tuple1\n",
    "element_10 = tuple1[0]\n",
    "element_50 = tuple1[1]\n",
    "element_10\n",
    "element_50"
   ]
  },
  {
   "cell_type": "code",
   "execution_count": 40,
   "id": "e5890116",
   "metadata": {},
   "outputs": [
    {
     "data": {
      "text/plain": [
       "5"
      ]
     },
     "execution_count": 40,
     "metadata": {},
     "output_type": "execute_result"
    }
   ],
   "source": [
    "# 2. Display the length of tuple1\n",
    "length_tuple1 = len(tuple1)\n",
    "length_tuple1"
   ]
  },
  {
   "cell_type": "code",
   "execution_count": 41,
   "id": "e218e49b",
   "metadata": {},
   "outputs": [
    {
     "data": {
      "text/plain": [
       "10"
      ]
     },
     "execution_count": 41,
     "metadata": {},
     "output_type": "execute_result"
    }
   ],
   "source": [
    "# 3. Find the minimum element from tuple1\n",
    "min_element = min(tuple1)\n",
    "min_element"
   ]
  },
  {
   "cell_type": "code",
   "execution_count": 45,
   "id": "bac2dcee",
   "metadata": {},
   "outputs": [
    {
     "data": {
      "text/plain": [
       "(10, 50, 20, 40, 30, 60, 60, 60)"
      ]
     },
     "execution_count": 45,
     "metadata": {},
     "output_type": "execute_result"
    }
   ],
   "source": [
    "# 4. Add an element to tuple1 (Tuples are immutable, so we need to create a new tuple)\n",
    "new_element = 60\n",
    "tuple1 = tuple1 + (new_element,)\n",
    "tuple1"
   ]
  },
  {
   "cell_type": "code",
   "execution_count": 46,
   "id": "b7dea69f",
   "metadata": {},
   "outputs": [
    {
     "data": {
      "text/plain": [
       "(10,\n",
       " 50,\n",
       " 20,\n",
       " 40,\n",
       " 30,\n",
       " 60,\n",
       " 60,\n",
       " 60,\n",
       " 10,\n",
       " 50,\n",
       " 20,\n",
       " 40,\n",
       " 30,\n",
       " 60,\n",
       " 60,\n",
       " 60,\n",
       " 10,\n",
       " 50,\n",
       " 20,\n",
       " 40,\n",
       " 30,\n",
       " 60,\n",
       " 60,\n",
       " 60)"
      ]
     },
     "execution_count": 46,
     "metadata": {},
     "output_type": "execute_result"
    }
   ],
   "source": [
    "# 5. Display the same tuple1 multiple times\n",
    "tuple1_multipletimes = tuple1 * 3\n",
    "tuple1_multipletimes"
   ]
  },
  {
   "cell_type": "code",
   "execution_count": 48,
   "id": "4c6ac23c",
   "metadata": {},
   "outputs": [
    {
     "name": "stdout",
     "output_type": "stream",
     "text": [
      "Tuple1: (10, 50, 20, 40, 30, 60, 60, 60)\n",
      "Element 10: 10\n",
      "Element 50: 50\n",
      "Length of Tuple1: 5\n",
      "Minimum Element: 10\n",
      "Tuple1 After Adding Element: (10, 50, 20, 40, 30, 60, 60, 60)\n",
      "Tuple1 Multiple Times: (10, 50, 20, 40, 30, 60, 60, 60, 10, 50, 20, 40, 30, 60, 60, 60, 10, 50, 20, 40, 30, 60, 60, 60)\n"
     ]
    }
   ],
   "source": [
    "# Display the results\n",
    "print(\"Tuple1:\", tuple1)\n",
    "print(\"Element 10:\", element_10)\n",
    "print(\"Element 50:\", element_50)\n",
    "print(\"Length of Tuple1:\", length_tuple1)\n",
    "print(\"Minimum Element:\", min_element)\n",
    "print(\"Tuple1 After Adding Element:\", tuple1)\n",
    "print(\"Tuple1 Multiple Times:\", tuple1_multipletimes)"
   ]
  },
  {
   "cell_type": "markdown",
   "id": "ba0ae78a",
   "metadata": {},
   "source": [
    "# 5. write a python program:\n",
    "    "
   ]
  },
  {
   "cell_type": "code",
   "execution_count": 50,
   "id": "e7c37df4",
   "metadata": {},
   "outputs": [
    {
     "data": {
      "text/plain": [
       "14"
      ]
     },
     "execution_count": 50,
     "metadata": {},
     "output_type": "execute_result"
    }
   ],
   "source": [
    "# 1. Calculate the length of the string\n",
    "input_string = \"Hello, Vishal!\"\n",
    "length = len(input_string)\n",
    "length\n"
   ]
  },
  {
   "cell_type": "code",
   "execution_count": 53,
   "id": "949033bd",
   "metadata": {},
   "outputs": [
    {
     "data": {
      "text/plain": [
       "'Vishal! Hello,'"
      ]
     },
     "execution_count": 53,
     "metadata": {},
     "output_type": "execute_result"
    }
   ],
   "source": [
    "# 2. Reverse the words in the string\n",
    "reversed_string = ' '.join(input_string.split()[::-1])\n",
    "reversed_string"
   ]
  },
  {
   "cell_type": "code",
   "execution_count": 56,
   "id": "dca5de27",
   "metadata": {},
   "outputs": [
    {
     "data": {
      "text/plain": [
       "'Hello, Vishal!Hello, Vishal!Hello, Vishal!'"
      ]
     },
     "execution_count": 56,
     "metadata": {},
     "output_type": "execute_result"
    }
   ],
   "source": [
    "# 3. Display the same string multiple times\n",
    "string_multipletimes = input_string * 3\n",
    "string_multipletimes"
   ]
  },
  {
   "cell_type": "code",
   "execution_count": 57,
   "id": "55896386",
   "metadata": {},
   "outputs": [
    {
     "data": {
      "text/plain": [
       "'good evening'"
      ]
     },
     "execution_count": 57,
     "metadata": {},
     "output_type": "execute_result"
    }
   ],
   "source": [
    "# 4. Concatenate two strings\n",
    "str1 = \"good\"\n",
    "str2 = \"evening\"\n",
    "concatenated_string = str1 + \" \" + str2\n",
    "concatenated_string"
   ]
  },
  {
   "cell_type": "code",
   "execution_count": 58,
   "id": "0f792518",
   "metadata": {},
   "outputs": [
    {
     "data": {
      "text/plain": [
       "'india'"
      ]
     },
     "execution_count": 58,
     "metadata": {},
     "output_type": "execute_result"
    }
   ],
   "source": [
    "# 5. Using string slicing to display \"india\" from \"South india\"\n",
    "str3 = \"South india\"\n",
    "india_part = str3[6:]\n",
    "india_part\n"
   ]
  },
  {
   "cell_type": "code",
   "execution_count": 59,
   "id": "03abc163",
   "metadata": {},
   "outputs": [
    {
     "name": "stdout",
     "output_type": "stream",
     "text": [
      "Original String: Hello, Vishal!\n",
      "Length of the String: 14\n",
      "Reversed String: Vishal! Hello,\n",
      "String Multiple Times: Hello, Vishal!Hello, Vishal!Hello, Vishal!\n",
      "Concatenated String: good evening\n",
      "Substring 'india': india\n"
     ]
    }
   ],
   "source": [
    "# Display the results\n",
    "print(\"Original String:\", input_string)\n",
    "print(\"Length of the String:\", length)\n",
    "print(\"Reversed String:\", reversed_string)\n",
    "print(\"String Multiple Times:\", string_multipletimes)\n",
    "print(\"Concatenated String:\", concatenated_string)\n",
    "print(\"Substring 'india':\", india_part)"
   ]
  },
  {
   "cell_type": "markdown",
   "id": "380be931",
   "metadata": {},
   "source": [
    "# 6.perform the folowing:\n",
    "   "
   ]
  },
  {
   "cell_type": "code",
   "execution_count": 60,
   "id": "572dc609",
   "metadata": {},
   "outputs": [
    {
     "data": {
      "text/plain": [
       "{'name': 'vishal', 'age': 23, 'city': 'Ghaziabad'}"
      ]
     },
     "execution_count": 60,
     "metadata": {},
     "output_type": "execute_result"
    }
   ],
   "source": [
    "# 1. Creating a dictionary\n",
    "my_dict = {'name': 'vishal', 'age': 23, 'city': 'Ghaziabad'}\n",
    "my_dict"
   ]
  },
  {
   "cell_type": "code",
   "execution_count": 63,
   "id": "abb1475a",
   "metadata": {},
   "outputs": [
    {
     "data": {
      "text/plain": [
       "('vishal', 'Ghaziabad', 23)"
      ]
     },
     "execution_count": 63,
     "metadata": {},
     "output_type": "execute_result"
    }
   ],
   "source": [
    "# 2. Accessing values and keys in the dictionary\n",
    "name = my_dict['name']\n",
    "age = my_dict['age']\n",
    "city = my_dict['city']\n",
    "name,city, age"
   ]
  },
  {
   "cell_type": "code",
   "execution_count": 64,
   "id": "d0067634",
   "metadata": {},
   "outputs": [
    {
     "data": {
      "text/plain": [
       "{'name': 'vishal', 'age': 23, 'city': 'Ghaziabad', 'job': 'Engineer'}"
      ]
     },
     "execution_count": 64,
     "metadata": {},
     "output_type": "execute_result"
    }
   ],
   "source": [
    "# 3. Updating the dictionary using a function\n",
    "def update_dictionary(d, key, value):\n",
    "    d[key] = value\n",
    "\n",
    "update_dictionary(my_dict, 'job', 'Engineer')\n",
    "my_dict"
   ]
  },
  {
   "cell_type": "code",
   "execution_count": 70,
   "id": "9b6e426f",
   "metadata": {},
   "outputs": [],
   "source": [
    "\n",
    "# 4. Clear and delete the dictionary\n",
    "my_dict = {'name': 'vishal', 'age': 23, 'city': 'Ghaziabad','job': 'Engineer'}\n",
    "my_dict.clear()\n",
    "del my_dict"
   ]
  },
  {
   "cell_type": "code",
   "execution_count": 71,
   "id": "18a43df4",
   "metadata": {},
   "outputs": [
    {
     "ename": "NameError",
     "evalue": "name 'my_dict' is not defined",
     "output_type": "error",
     "traceback": [
      "\u001b[1;31m---------------------------------------------------------------------------\u001b[0m",
      "\u001b[1;31mNameError\u001b[0m                                 Traceback (most recent call last)",
      "Cell \u001b[1;32mIn[71], line 2\u001b[0m\n\u001b[0;32m      1\u001b[0m \u001b[38;5;66;03m# Display the results\u001b[39;00m\n\u001b[1;32m----> 2\u001b[0m \u001b[38;5;28mprint\u001b[39m(\u001b[38;5;124m\"\u001b[39m\u001b[38;5;124mOriginal Dictionary:\u001b[39m\u001b[38;5;124m\"\u001b[39m, my_dict) \n\u001b[0;32m      3\u001b[0m \u001b[38;5;28mprint\u001b[39m(\u001b[38;5;124m\"\u001b[39m\u001b[38;5;124mName:\u001b[39m\u001b[38;5;124m\"\u001b[39m, name)\n\u001b[0;32m      4\u001b[0m \u001b[38;5;28mprint\u001b[39m(\u001b[38;5;124m\"\u001b[39m\u001b[38;5;124mAge:\u001b[39m\u001b[38;5;124m\"\u001b[39m, age)\n",
      "\u001b[1;31mNameError\u001b[0m: name 'my_dict' is not defined"
     ]
    }
   ],
   "source": [
    "# Display the results\n",
    "print(\"Original Dictionary:\", my_dict) \n",
    "print(\"Name:\", name)\n",
    "print(\"Age:\", age)\n",
    "print(\"City:\", city)"
   ]
  },
  {
   "cell_type": "markdown",
   "id": "9389f2c1",
   "metadata": {},
   "source": [
    "# 7.python program to insert a number to any position in a list."
   ]
  },
  {
   "cell_type": "code",
   "execution_count": 75,
   "id": "0f5523ba",
   "metadata": {},
   "outputs": [
    {
     "name": "stdout",
     "output_type": "stream",
     "text": [
      "Original List :  [1, 2, 3, 4, 5]\n",
      "Updated List: [1, 2, 6, 3, 4, 5]\n"
     ]
    }
   ],
   "source": [
    "my_list = [1, 2, 3, 4, 5]\n",
    "print(\"Original List : \" , my_list)\n",
    "number_to_insert = 6\n",
    "position = 2\n",
    "my_list.insert(position, number_to_insert)\n",
    "print(\"Updated List:\", my_list)\n"
   ]
  },
  {
   "cell_type": "markdown",
   "id": "3d7c2f72",
   "metadata": {},
   "source": [
    "# 8.python program to delete a number from a list by index."
   ]
  },
  {
   "cell_type": "code",
   "execution_count": 76,
   "id": "b6f5502b",
   "metadata": {},
   "outputs": [
    {
     "name": "stdout",
     "output_type": "stream",
     "text": [
      "Original List :  [1, 2, 3, 4, 5]\n",
      "Updated List: [1, 2, 4, 5]\n"
     ]
    }
   ],
   "source": [
    "my_list = [1, 2, 3, 4, 5]\n",
    "print(\"Original List : \" , my_list)\n",
    "index_to_delete = 2\n",
    "if 0 <= index_to_delete < len(my_list):\n",
    "    my_list.pop(index_to_delete)\n",
    "else:\n",
    "    print(\"Invalid index\")\n",
    "print(\"Updated List:\", my_list)\n"
   ]
  },
  {
   "cell_type": "markdown",
   "id": "597e5126",
   "metadata": {},
   "source": [
    "# 9.write a program to display a number from 1 to 100."
   ]
  },
  {
   "cell_type": "code",
   "execution_count": 77,
   "id": "cfb8cd72",
   "metadata": {},
   "outputs": [
    {
     "name": "stdout",
     "output_type": "stream",
     "text": [
      "1\n",
      "2\n",
      "3\n",
      "4\n",
      "5\n",
      "6\n",
      "7\n",
      "8\n",
      "9\n",
      "10\n",
      "11\n",
      "12\n",
      "13\n",
      "14\n",
      "15\n",
      "16\n",
      "17\n",
      "18\n",
      "19\n",
      "20\n",
      "21\n",
      "22\n",
      "23\n",
      "24\n",
      "25\n",
      "26\n",
      "27\n",
      "28\n",
      "29\n",
      "30\n",
      "31\n",
      "32\n",
      "33\n",
      "34\n",
      "35\n",
      "36\n",
      "37\n",
      "38\n",
      "39\n",
      "40\n",
      "41\n",
      "42\n",
      "43\n",
      "44\n",
      "45\n",
      "46\n",
      "47\n",
      "48\n",
      "49\n",
      "50\n",
      "51\n",
      "52\n",
      "53\n",
      "54\n",
      "55\n",
      "56\n",
      "57\n",
      "58\n",
      "59\n",
      "60\n",
      "61\n",
      "62\n",
      "63\n",
      "64\n",
      "65\n",
      "66\n",
      "67\n",
      "68\n",
      "69\n",
      "70\n",
      "71\n",
      "72\n",
      "73\n",
      "74\n",
      "75\n",
      "76\n",
      "77\n",
      "78\n",
      "79\n",
      "80\n",
      "81\n",
      "82\n",
      "83\n",
      "84\n",
      "85\n",
      "86\n",
      "87\n",
      "88\n",
      "89\n",
      "90\n",
      "91\n",
      "92\n",
      "93\n",
      "94\n",
      "95\n",
      "96\n",
      "97\n",
      "98\n",
      "99\n",
      "100\n"
     ]
    }
   ],
   "source": [
    "#  to display numbers from 1 to 100\n",
    "for number in range(1, 101):\n",
    "    print(number)\n"
   ]
  },
  {
   "cell_type": "markdown",
   "id": "a4ac22eb",
   "metadata": {},
   "source": [
    "# 10.write a Python program to find the sum of all items in a tuple."
   ]
  },
  {
   "cell_type": "code",
   "execution_count": 78,
   "id": "45b0b9a8",
   "metadata": {},
   "outputs": [
    {
     "name": "stdout",
     "output_type": "stream",
     "text": [
      "Sum of Items: 15\n"
     ]
    }
   ],
   "source": [
    "my_tuple = (1, 2, 3, 4, 5)\n",
    "sum_of_items = 0\n",
    "for item in my_tuple:\n",
    "    sum_of_items += item\n",
    "print(\"Sum of Items:\", sum_of_items)\n"
   ]
  },
  {
   "cell_type": "code",
   "execution_count": null,
   "id": "0781f4d4",
   "metadata": {},
   "outputs": [],
   "source": []
  }
 ],
 "metadata": {
  "kernelspec": {
   "display_name": "Python 3 (ipykernel)",
   "language": "python",
   "name": "python3"
  },
  "language_info": {
   "codemirror_mode": {
    "name": "ipython",
    "version": 3
   },
   "file_extension": ".py",
   "mimetype": "text/x-python",
   "name": "python",
   "nbconvert_exporter": "python",
   "pygments_lexer": "ipython3",
   "version": "3.11.4"
  }
 },
 "nbformat": 4,
 "nbformat_minor": 5
}
