{
 "cells": [
  {
   "cell_type": "markdown",
   "id": "9a5cadd1",
   "metadata": {},
   "source": [
    "# 1. Write a python program with Exception handing to input marks for five subjects Physics, Chemistry, Biology, Mathematics, and Computer, Calculate the percentage and grade according to the following:\n",
    "\n",
    "Percentage >=90% Grade A\n",
    "\n",
    "Percentage >=80% Grade B\n",
    "\n",
    "Percentage >=70% Grade C\n",
    "\n",
    "Percentage >=60% Grade D\n",
    "\n",
    "Percentage >=40% Grade E\n",
    "\n",
    "Percentage <40% Grade F\n"
   ]
  },
  {
   "cell_type": "code",
   "execution_count": 9,
   "id": "76e147af",
   "metadata": {},
   "outputs": [
    {
     "name": "stdout",
     "output_type": "stream",
     "text": [
      "Enter Math marks : 75\n",
      "Enter English marks : 78\n",
      "Enter Physics marks : 89\n",
      "Enter Chemistry marks : 90\n",
      "Enter Hindi marks : 78\n",
      "Percentage: 82.00%\n",
      "Grade: B\n"
     ]
    }
   ],
   "source": [
    "try:    \n",
    "    marks = {} \n",
    "    total = 0 \n",
    "    subjects = [\"Math\", \"English\", \"Physics\", \"Chemistry\", \"Hindi\"] \n",
    "\n",
    "    for subject in subjects: \n",
    "        marks[subject] = input(\"Enter \" + subject + \" marks : \") \n",
    "\n",
    "    for key in marks.values(): \n",
    "        total += int(key) \n",
    "\n",
    "    percentage = (total*100) / 500  \n",
    "\n",
    "    if percentage > 90:\n",
    "        grade = 'A'\n",
    "    elif percentage >= 80:\n",
    "        grade = 'B'\n",
    "    elif percentage >= 70:\n",
    "        grade = 'C'\n",
    "    elif percentage >= 60:\n",
    "        grade = 'D'\n",
    "    elif percentage >= 40:\n",
    "        grade = 'E'\n",
    "    else:\n",
    "        grade = 'F'\n",
    "\n",
    "    print(f\"Percentage: {percentage:.2f}%\")\n",
    "    print(f\"Grade: {grade}\")\n",
    "except ValueError:\n",
    "    print(\"Invalid input. Please enter numeric values for marks.\")\n",
    "except Exception as e:\n",
    "    print(f\"An error occurred: {str(e)}\")    "
   ]
  },
  {
   "cell_type": "markdown",
   "id": "49c5ec52",
   "metadata": {},
   "source": [
    "# 2. Write a python program with Exception handling to input electricity unit charges and calculate\n",
    "\n",
    "the total electricity bill according to the given condition\n",
    "\n",
    "1.For the first 50 units Rt.0.50/\n",
    "\n",
    "2.For the next 100 units is 0.75/nit\n",
    "\n",
    "3.For the next 100 units 120/\n",
    "\n",
    "4.For units above 250 Rs. 1.50/unit\n",
    "\n",
    "5.An additional surcharge of 20 is added to the bill."
   ]
  },
  {
   "cell_type": "code",
   "execution_count": 22,
   "id": "ea532af3",
   "metadata": {},
   "outputs": [
    {
     "name": "stdout",
     "output_type": "stream",
     "text": [
      "Enter total units consumed: 578\n",
      "Total Electricity Bill: Rs. 732.00\n"
     ]
    }
   ],
   "source": [
    "try:\n",
    "    total_units = int(input(\"Enter total units consumed: \"))\n",
    "    bill = 0\n",
    "    surcharge = 20\n",
    "    \n",
    "    if total_units <= 50:\n",
    "        bill = total_units * 0.50\n",
    "    elif total_units <= 150:\n",
    "        bill = (50 * 0.50) + ((total_units - 50) * 0.75)\n",
    "    elif total_units <= 250:\n",
    "        bill = (50 * 0.50) + (100 * 0.75) + ((total_units - 150) * 1.20)\n",
    "    else:\n",
    "        bill = (50 * 0.50) + (100 * 0.75) + (100 * 1.20) + ((total_units - 250) * 1.50)\n",
    "\n",
    "    total_bill = bill + surcharge\n",
    "\n",
    "    print(f\"Total Electricity Bill: Rs. {total_bill:.2f}\")\n",
    "\n",
    "except ValueError:\n",
    "    print(\"Invalid input! Please enter a valid number of units.\")\n",
    "except Exception as e:\n",
    "    print(f\"An error occurred: {str(e)}\")"
   ]
  },
  {
   "cell_type": "markdown",
   "id": "7823ac33",
   "metadata": {},
   "source": [
    "# 3 Write a python program with Exception handling to input the week number and print the weekday\n"
   ]
  },
  {
   "cell_type": "code",
   "execution_count": 21,
   "id": "a96869af",
   "metadata": {},
   "outputs": [
    {
     "name": "stdout",
     "output_type": "stream",
     "text": [
      "Enter a week number (1-7): 3\n",
      "The weekday for week number 3 is Wednesday.\n"
     ]
    }
   ],
   "source": [
    "try:\n",
    "    week_number = int(input(\"Enter a week number (1-7): \"))\n",
    "\n",
    "    if 1 <= week_number and week_number <= 7:\n",
    "        weekdays = [\"Monday\", \"Tuesday\", \"Wednesday\", \"Thursday\", \"Friday\", \"Saturday\", \"Sunday\"]\n",
    "        weekday = weekdays[week_number - 1]\n",
    "        print(\"The weekday for week number {} is {}.\".format(week_number,weekday))\n",
    "    else:\n",
    "        print(\"Invalid week number. Please enter a number between 1 and 7.\")\n",
    "except ValueError:\n",
    "    print(\"Invalid input. Please enter a valid number between 1 and 7.\")\n",
    "except IndexError:\n",
    "    print(\"Invalid week number. Please enter a number between 1 and 7.\")"
   ]
  },
  {
   "cell_type": "markdown",
   "id": "5aad5d2a",
   "metadata": {},
   "source": [
    "# 4.Write a Python program to implement word count using command line arguments\n",
    "\n",
    "# i. Create a test document \"apple.txt\" which contains text for wordcount Create & wordcount. \n",
    "# ii.program which calls the \"apple.txt\" document by opening the file\n",
    "\n",
    "# iii.If the word is present again in the \"apple.txt\" wordcount  is incremented by 1 until all the words are counted in the document.\n",
    "\n",
    "# iv.Close the file\n",
    "\n",
    "# v. Create a command.py program which imports the wordcount.py program\n",
    "\n",
    "# vi. Count the number of words using command line arguments \n",
    "\n",
    "# vii. Print each word and its count."
   ]
  },
  {
   "cell_type": "code",
   "execution_count": 24,
   "id": "1c92b7ba",
   "metadata": {},
   "outputs": [
    {
     "name": "stdout",
     "output_type": "stream",
     "text": [
      "Usage: python wordcount.py <filename>\n"
     ]
    },
    {
     "ename": "SystemExit",
     "evalue": "1",
     "output_type": "error",
     "traceback": [
      "An exception has occurred, use %tb to see the full traceback.\n",
      "\u001b[1;31mSystemExit\u001b[0m\u001b[1;31m:\u001b[0m 1\n"
     ]
    }
   ],
   "source": [
    "import sys\n",
    "\n",
    "def word_count(filename):\n",
    "    word_counts = {}\n",
    "    \n",
    "    try:\n",
    "        with open(filename, 'r') as file:\n",
    "            for line in file:\n",
    "                words = line.strip().split()\n",
    "                for word in words:\n",
    "                    word = word.lower()  \n",
    "                    if word in word_counts:\n",
    "                        word_counts[word] += 1\n",
    "                    else:\n",
    "                        word_counts[word] = 1\n",
    "                        \n",
    "        return word_counts\n",
    "    except FileNotFoundError:\n",
    "        print(f\"Error: File '{filename}' not found.\")\n",
    "        sys.exit(1)\n",
    "\n",
    "if __name__ == \"__main__\":\n",
    "    if len(sys.argv) != 2:\n",
    "        print(\"Usage: python wordcount.py <filename>\")\n",
    "        sys.exit(1)\n",
    "\n",
    "    filename = sys.argv[1]\n",
    "    word_counts = word_count(filename)\n",
    "    \n",
    "    for word, count in word_counts.items():\n",
    "        print(f\"{word}: {count}\")\n",
    "        \n",
    "    \n"
   ]
  },
  {
   "cell_type": "code",
   "execution_count": null,
   "id": "a937daf4",
   "metadata": {},
   "outputs": [],
   "source": [
    "        \n",
    "import sys\n",
    "from wordcount import word_count\n",
    "\n",
    "if __name__ == \"__main__\":\n",
    "    if len(sys.argv) != 2:\n",
    "        print(\"Usage: python command.py <filename>\")\n",
    "        sys.exit(1)\n",
    "\n",
    "    filename = sys.argv[1]\n",
    "    word_counts = word_count(filename)\n",
    "    \n",
    "    for word, count in word_counts.items():\n",
    "        print(f\"{word}: {count}\")    "
   ]
  },
  {
   "cell_type": "markdown",
   "id": "05651e76",
   "metadata": {},
   "source": [
    "# 5. Write a Python program for finding the most frequent words in a text read from a file.\n"
   ]
  },
  {
   "cell_type": "code",
   "execution_count": 23,
   "id": "f67efbb0",
   "metadata": {},
   "outputs": [
    {
     "name": "stdout",
     "output_type": "stream",
     "text": [
      "Enter the name of the text file: sample.txt\n",
      "The 10 most frequent words in the file are:\n",
      "of: 7 times\n",
      "a: 7 times\n",
      "the: 6 times\n",
      "indentation: 4 times\n",
      "as: 3 times\n",
      "different: 3 times\n",
      "to: 3 times\n",
      "tabs: 3 times\n",
      "one: 2 times\n",
      "python: 2 times\n"
     ]
    }
   ],
   "source": [
    "# i) Initially open the text file in read mode.\n",
    "\n",
    "try:\n",
    "    file_name = input(\"Enter the name of the text file: \")\n",
    "    with open(file_name, 'r') as file:\n",
    "        text = file.read()\n",
    "\n",
    "# ii) Make all the letters in the document into lowercase letters and split the words in each line.\n",
    "    \n",
    "    words = text.lower().split()\n",
    "\n",
    "# iii) Get the words in an order\n",
    "\n",
    "    word_count = {}\n",
    "    for word in words:\n",
    "        if word in word_count:\n",
    "            word_count[word] += 1\n",
    "        else:\n",
    "            word_count[word] = 1\n",
    "\n",
    "# iv) Sort the words for finding the most frequent words in the file\n",
    "\n",
    "    sorted_words = sorted(word_count.items(), key=lambda x: x[1], reverse=True)\n",
    "\n",
    "# v) Print the most frequent words in the file.\n",
    "\n",
    "    num_words_to_print = min(10, len(sorted_words))\n",
    "    print(\"The {} most frequent words in the file are:\".format(num_words_to_print))\n",
    "    for i in range(num_words_to_print):\n",
    "        word, frequency = sorted_words[i]\n",
    "        print(\"{}: {} times\".format(word,frequency))\n",
    "except FileNotFoundError:\n",
    "    print(\"The file '{}' was not found.\".format(file_name))\n",
    "except Exception as e:\n",
    "    print(\"An error occurred: {}\".format(str(e)))"
   ]
  },
  {
   "cell_type": "markdown",
   "id": "4b68a817",
   "metadata": {},
   "source": [
    "# 6 File Processing with Command-Line Arguments- Scenario: You are developing a command-line utility that processes text files. Users can specify input and output file paths as command-line arguments. Your program should handle exceptions gracefully.\n",
    "\n",
    "1.Design a Python program that takes two command-line arguments: the input file path and the output file path. Ensure that the program checks if both arguments are provided and that the input file exists.\n",
    "\n",
    "2.Implement error handling to deal with scenarios such as missing input files. invalid file paths, or permission issues when writing to the output file.\n",
    "\n",
    "3.If an error occurs during file processing, display a user-friendly error message, and exit the program with a non-zero exit code.\n",
    "\n",
    "4.Write test cases that cover various scenarios, including providing valid and invalid file paths as command-line arguments."
   ]
  },
  {
   "cell_type": "code",
   "execution_count": null,
   "id": "286964eb",
   "metadata": {},
   "outputs": [],
   "source": [
    "import sys\n",
    "\n",
    "def process_file(input_file_path, output_file_path):\n",
    "    try:\n",
    "        with open(input_file_path, 'r') as input_file:\n",
    "            content = input_file.read()\n",
    "        processed_content = content.upper()\n",
    "        with open(output_file_path, 'w') as output_file:\n",
    "            output_file.write(processed_content)\n",
    "\n",
    "    except FileNotFoundError:\n",
    "        print(f\"Error: Input file '{input_file_path}' not found.\")\n",
    "        sys.exit(1)\n",
    "    except PermissionError:\n",
    "        print(f\"Error: Permission denied when writing to '{output_file_path}'.\")\n",
    "        sys.exit(1)\n",
    "    except Exception as e:\n",
    "        print(f\"An error occurred: {str(e)}\")\n",
    "        sys.exit(1)\n",
    "\n",
    "if __name__ == \"__main__\":\n",
    "    if len(sys.argv) != 3:\n",
    "        print(\"Usage: python file_processor.py <input_file> <output_file>\")\n",
    "        sys.exit(1)\n",
    "\n",
    "    input_file_path = sys.argv[1]\n",
    "    output_file_path = sys.argv[2]\n",
    "\n",
    "    process_file(input_file_path, output_file_path)"
   ]
  }
 ],
 "metadata": {
  "kernelspec": {
   "display_name": "Python 3 (ipykernel)",
   "language": "python",
   "name": "python3"
  },
  "language_info": {
   "codemirror_mode": {
    "name": "ipython",
    "version": 3
   },
   "file_extension": ".py",
   "mimetype": "text/x-python",
   "name": "python",
   "nbconvert_exporter": "python",
   "pygments_lexer": "ipython3",
   "version": "3.11.4"
  }
 },
 "nbformat": 4,
 "nbformat_minor": 5
}
