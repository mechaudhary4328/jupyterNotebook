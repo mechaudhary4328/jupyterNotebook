{
 "cells": [
  {
   "cell_type": "markdown",
   "id": "36927bb7",
   "metadata": {},
   "source": [
    "# 1. Create a 3x3x3 array with random values\n"
   ]
  },
  {
   "cell_type": "code",
   "execution_count": 2,
   "id": "506f4720",
   "metadata": {},
   "outputs": [
    {
     "data": {
      "text/plain": [
       "array([[[0.23801126, 0.86510924, 0.33970646],\n",
       "        [0.98526097, 0.23947794, 0.41977471],\n",
       "        [0.70505826, 0.9889016 , 0.07083459]],\n",
       "\n",
       "       [[0.05638966, 0.43350248, 0.84115595],\n",
       "        [0.87946515, 0.82869407, 0.20323239],\n",
       "        [0.26099803, 0.22079191, 0.34670016]],\n",
       "\n",
       "       [[0.64843181, 0.13995362, 0.22264978],\n",
       "        [0.51939175, 0.00968916, 0.08872153],\n",
       "        [0.74233364, 0.09406741, 0.09873139]]])"
      ]
     },
     "execution_count": 2,
     "metadata": {},
     "output_type": "execute_result"
    }
   ],
   "source": [
    "import numpy as np\n",
    "\n",
    "random_3x3x3_array = np.random.rand(3, 3, 3)\n",
    "random_3x3x3_array"
   ]
  },
  {
   "cell_type": "markdown",
   "id": "a1d804df",
   "metadata": {},
   "source": [
    "# 2.Create a 5x5 matrix with values 1,2,3,4 just below the diagonal\n"
   ]
  },
  {
   "cell_type": "code",
   "execution_count": 4,
   "id": "e6bf23df",
   "metadata": {},
   "outputs": [
    {
     "data": {
      "text/plain": [
       "array([[0, 0, 0, 0, 0],\n",
       "       [1, 0, 0, 0, 0],\n",
       "       [0, 2, 0, 0, 0],\n",
       "       [0, 0, 3, 0, 0],\n",
       "       [0, 0, 0, 4, 0]])"
      ]
     },
     "execution_count": 4,
     "metadata": {},
     "output_type": "execute_result"
    }
   ],
   "source": [
    "import numpy as np\n",
    "\n",
    "diagonal_values = np.array([1, 2, 3, 4])\n",
    "matrix_5x5 = np.diag(diagonal_values, k=-1)\n",
    "matrix_5x5"
   ]
  },
  {
   "cell_type": "markdown",
   "id": "fa40bbb5",
   "metadata": {},
   "source": [
    "# 3.Create a 8x8 matrix and fill it with a checkerboard pattern\n"
   ]
  },
  {
   "cell_type": "code",
   "execution_count": 6,
   "id": "429860e3",
   "metadata": {},
   "outputs": [
    {
     "data": {
      "text/plain": [
       "array([[0, 1, 0, 1, 0, 1, 0, 1],\n",
       "       [1, 0, 1, 0, 1, 0, 1, 0],\n",
       "       [0, 1, 0, 1, 0, 1, 0, 1],\n",
       "       [1, 0, 1, 0, 1, 0, 1, 0],\n",
       "       [0, 1, 0, 1, 0, 1, 0, 1],\n",
       "       [1, 0, 1, 0, 1, 0, 1, 0],\n",
       "       [0, 1, 0, 1, 0, 1, 0, 1],\n",
       "       [1, 0, 1, 0, 1, 0, 1, 0]])"
      ]
     },
     "execution_count": 6,
     "metadata": {},
     "output_type": "execute_result"
    }
   ],
   "source": [
    "import numpy as np\n",
    "\n",
    "checkerboard_matrix = np.zeros((8, 8), dtype=int)\n",
    "checkerboard_matrix[1::2, ::2] = 1\n",
    "checkerboard_matrix[::2, 1::2] = 1\n",
    "checkerboard_matrix"
   ]
  },
  {
   "cell_type": "markdown",
   "id": "1a920834",
   "metadata": {},
   "source": [
    "# 4. Normalize a 5x5 random matrix\n"
   ]
  },
  {
   "cell_type": "code",
   "execution_count": 8,
   "id": "6e896a95",
   "metadata": {},
   "outputs": [
    {
     "data": {
      "text/plain": [
       "array([[0.02886146, 1.        , 0.75353943, 0.82644449, 0.01244158],\n",
       "       [0.09071741, 0.36306159, 0.        , 0.05172636, 0.35845019],\n",
       "       [0.90020122, 0.36545089, 0.50556637, 0.62535756, 0.54602653],\n",
       "       [0.4218709 , 0.64387712, 0.29270483, 0.46572915, 0.53363417],\n",
       "       [0.66927319, 0.26442948, 0.87783294, 0.42751492, 0.4770782 ]])"
      ]
     },
     "execution_count": 8,
     "metadata": {},
     "output_type": "execute_result"
    }
   ],
   "source": [
    "import numpy as np\n",
    "\n",
    "random_5x5_matrix = np.random.rand(5, 5)\n",
    "normalized_matrix = (random_5x5_matrix - random_5x5_matrix.min()) / (random_5x5_matrix.max() - random_5x5_matrix.min())\n",
    "normalized_matrix"
   ]
  },
  {
   "cell_type": "markdown",
   "id": "bddc3027",
   "metadata": {},
   "source": [
    "# 5. How to find common values between two arrays?\n"
   ]
  },
  {
   "cell_type": "code",
   "execution_count": 10,
   "id": "32477c95",
   "metadata": {},
   "outputs": [
    {
     "data": {
      "text/plain": [
       "array([3, 4, 5])"
      ]
     },
     "execution_count": 10,
     "metadata": {},
     "output_type": "execute_result"
    }
   ],
   "source": [
    "import numpy as np\n",
    "\n",
    "array_A = np.array([1, 2, 3, 4, 5])\n",
    "array_B = np.array([3, 4, 5, 6, 7])\n",
    "\n",
    "common_values = np.intersect1d(array_A, array_B)\n",
    "common_values"
   ]
  },
  {
   "cell_type": "markdown",
   "id": "bb49b504",
   "metadata": {},
   "source": [
    "# 6.How to get the dates of yesterday, today and tomorrow?\n"
   ]
  },
  {
   "cell_type": "code",
   "execution_count": 11,
   "id": "dc2cd7da",
   "metadata": {},
   "outputs": [
    {
     "name": "stdout",
     "output_type": "stream",
     "text": [
      "Yesterday: 2023-09-20\n",
      "Today: 2023-09-21\n",
      "Tomorrow: 2023-09-22\n"
     ]
    }
   ],
   "source": [
    "from datetime import datetime, timedelta\n",
    "\n",
    "today = datetime.now()\n",
    "yesterday = today - timedelta(days=1)\n",
    "tomorrow = today + timedelta(days=1)\n",
    "\n",
    "print(f\"Yesterday: {yesterday.strftime('%Y-%m-%d')}\")\n",
    "print(f\"Today: {today.strftime('%Y-%m-%d')}\")\n",
    "print(f\"Tomorrow: {tomorrow.strftime('%Y-%m-%d')}\")\n"
   ]
  },
  {
   "cell_type": "markdown",
   "id": "cf640c36",
   "metadata": {},
   "source": [
    "# 7. Consider two random array A and B, check if they are equal\n",
    "\n"
   ]
  },
  {
   "cell_type": "code",
   "execution_count": 12,
   "id": "04fbce96",
   "metadata": {},
   "outputs": [
    {
     "data": {
      "text/plain": [
       "True"
      ]
     },
     "execution_count": 12,
     "metadata": {},
     "output_type": "execute_result"
    }
   ],
   "source": [
    "import numpy as np\n",
    "\n",
    "array_A = np.array([1, 2, 3, 4, 5])\n",
    "array_B = np.array([1, 2, 3, 4, 5])\n",
    "\n",
    "are_equal = np.array_equal(array_A, array_B)\n",
    "are_equal"
   ]
  },
  {
   "cell_type": "markdown",
   "id": "2d10cd63",
   "metadata": {},
   "source": [
    "# 8.Create a random vector of size 10 and replace the maximum value by 0:\n"
   ]
  },
  {
   "cell_type": "code",
   "execution_count": 16,
   "id": "c365e925",
   "metadata": {},
   "outputs": [
    {
     "data": {
      "text/plain": [
       "0.9422307934704692"
      ]
     },
     "execution_count": 16,
     "metadata": {},
     "output_type": "execute_result"
    }
   ],
   "source": [
    "import numpy as np\n",
    "\n",
    "# Create a random vector of size 10\n",
    "random_vector = np.random.rand(10)\n",
    "\n",
    "# Find the maximum value in the vector\n",
    "max_value = np.max(random_vector)\n",
    "\n",
    "# Replace the maximum value with 0\n",
    "random_vector[random_vector == max_value] = 0\n",
    "random_vector\n",
    "max_value"
   ]
  },
  {
   "cell_type": "markdown",
   "id": "db750b6c",
   "metadata": {},
   "source": [
    "# 9. How to print all the values of an array?\n"
   ]
  },
  {
   "cell_type": "code",
   "execution_count": 17,
   "id": "73b8eee9",
   "metadata": {},
   "outputs": [
    {
     "name": "stdout",
     "output_type": "stream",
     "text": [
      "[1 2 3 4 5]\n"
     ]
    }
   ],
   "source": [
    "import numpy as np\n",
    "\n",
    "my_array = np.array([1, 2, 3, 4, 5])\n",
    "print(my_array)\n"
   ]
  },
  {
   "cell_type": "markdown",
   "id": "ae6a47cb",
   "metadata": {},
   "source": [
    "# 10.Subtract the mean of each row of a matrix\n",
    "\n"
   ]
  },
  {
   "cell_type": "code",
   "execution_count": 19,
   "id": "84879ebd",
   "metadata": {},
   "outputs": [
    {
     "data": {
      "text/plain": [
       "array([[-1.,  0.,  1.],\n",
       "       [-1.,  0.,  1.],\n",
       "       [-1.,  0.,  1.]])"
      ]
     },
     "execution_count": 19,
     "metadata": {},
     "output_type": "execute_result"
    }
   ],
   "source": [
    "import numpy as np\n",
    "\n",
    "# Create a sample matrix (replace this with your actual matrix)\n",
    "matrix = np.array([[1, 2, 3],\n",
    "                   [4, 5, 6],\n",
    "                   [7, 8, 9]])\n",
    "\n",
    "# Calculate the mean of each row\n",
    "row_means = np.mean(matrix, axis=1, keepdims=True)\n",
    "\n",
    "# Subtract the mean of each row from the respective rows\n",
    "matrix_centered = matrix - row_means\n",
    "matrix_centered"
   ]
  },
  {
   "cell_type": "markdown",
   "id": "a7b574be",
   "metadata": {},
   "source": [
    "# 11.Consider a given vector, how to add 1 to each element indexed by a second vector (be careful with repeated indices)? "
   ]
  },
  {
   "cell_type": "code",
   "execution_count": 21,
   "id": "c18cfed6",
   "metadata": {},
   "outputs": [
    {
     "data": {
      "text/plain": [
       "array([2, 2, 4, 4, 6])"
      ]
     },
     "execution_count": 21,
     "metadata": {},
     "output_type": "execute_result"
    }
   ],
   "source": [
    "import numpy as np\n",
    "given_vector = np.array([1, 2, 3, 4, 5])\n",
    "indices_to_add_1 = np.array([0, 2, 4])\n",
    "mask = np.zeros_like(given_vector)\n",
    "mask[indices_to_add_1] = 1\n",
    "result_vector = given_vector + mask\n",
    "result_vector"
   ]
  },
  {
   "cell_type": "markdown",
   "id": "50f2cafe",
   "metadata": {},
   "source": [
    "# 12.How to get the diagonal of a dot product?\n"
   ]
  },
  {
   "cell_type": "code",
   "execution_count": 22,
   "id": "25cb835c",
   "metadata": {},
   "outputs": [
    {
     "data": {
      "text/plain": [
       "array([30, 69, 90])"
      ]
     },
     "execution_count": 22,
     "metadata": {},
     "output_type": "execute_result"
    }
   ],
   "source": [
    "import numpy as np\n",
    "\n",
    "matrix_A = np.array([[1, 2, 3],\n",
    "                     [4, 5, 6],\n",
    "                     [7, 8, 9]])\n",
    "\n",
    "matrix_B = np.array([[9, 8, 7],\n",
    "                     [6, 5, 4],\n",
    "                     [3, 2, 1]])\n",
    "\n",
    "dot_product_result = np.dot(matrix_A, matrix_B)\n",
    "\n",
    "diagonal_result = np.diagonal(dot_product_result)\n",
    "diagonal_result"
   ]
  },
  {
   "cell_type": "markdown",
   "id": "fbf0de10",
   "metadata": {},
   "source": [
    "# 13.How to find the most frequent value in an array?\n",
    "\n"
   ]
  },
  {
   "cell_type": "code",
   "execution_count": 23,
   "id": "fae14faa",
   "metadata": {},
   "outputs": [
    {
     "name": "stdout",
     "output_type": "stream",
     "text": [
      "The most frequent value in the array is 3 with 3 occurrences.\n"
     ]
    }
   ],
   "source": [
    "import numpy as np\n",
    "\n",
    "my_array = np.array([1, 2, 2, 3, 3, 3, 4, 4, 5])\n",
    "unique_values, counts = np.unique(my_array, return_counts=True)\n",
    "most_frequent_index = np.argmax(counts)\n",
    "most_frequent_value = unique_values[most_frequent_index]\n",
    "\n",
    "print(f\"The most frequent value in the array is {most_frequent_value} with {counts[most_frequent_index]} occurrences.\")\n"
   ]
  },
  {
   "cell_type": "markdown",
   "id": "bab014c6",
   "metadata": {},
   "source": [
    "# 14.How to get the n largest value in the array"
   ]
  },
  {
   "cell_type": "code",
   "execution_count": 25,
   "id": "beabf2cc",
   "metadata": {},
   "outputs": [
    {
     "name": "stdout",
     "output_type": "stream",
     "text": [
      "[76]\n"
     ]
    }
   ],
   "source": [
    "import heapq\n",
    "\n",
    "def get_n_largest(arr, n):\n",
    "    return heapq.nlargest(n, arr)\n",
    "\n",
    "# Example usage:\n",
    "my_array = [12, 34, 45, 9, 8, 76]\n",
    "n = 1\n",
    "n_largest_values = get_n_largest(my_array, n)\n",
    "print(n_largest_values)  "
   ]
  },
  {
   "cell_type": "markdown",
   "id": "fae1aa56",
   "metadata": {},
   "source": [
    "# 15.How to create a record array from a regular array.\n"
   ]
  },
  {
   "cell_type": "code",
   "execution_count": 27,
   "id": "49e285b1",
   "metadata": {},
   "outputs": [
    {
     "name": "stdout",
     "output_type": "stream",
     "text": [
      "First record:\n",
      "ID: 1\n",
      "Name: vishal\n",
      "Age: 25\n",
      "\n",
      "Second record:\n",
      "ID: 2\n",
      "Name: shiva\n",
      "Age: 30\n"
     ]
    }
   ],
   "source": [
    "import numpy as np\n",
    "regular_array = [(1, \"vishal\", 25), (2, \"shiva\", 30), (3, \"sourav\", 22)]\n",
    "dtype = [('ID', int), ('Name', 'U10'), ('Age', int)]\n",
    "record_array = np.array(regular_array, dtype=dtype)\n",
    "print(\"First record:\")\n",
    "print(\"ID:\", record_array[0]['ID'])\n",
    "print(\"Name:\", record_array[0]['Name'])\n",
    "print(\"Age:\", record_array[0]['Age'])\n",
    "print(\"\\nSecond record:\")\n",
    "print(\"ID:\", record_array[1][0])\n",
    "print(\"Name:\", record_array[1][1])\n",
    "print(\"Age:\", record_array[1][2])"
   ]
  },
  {
   "cell_type": "markdown",
   "id": "c447681a",
   "metadata": {},
   "source": [
    "# 16.How to swap two rows of an array."
   ]
  },
  {
   "cell_type": "code",
   "execution_count": 28,
   "id": "d1bfa29e",
   "metadata": {},
   "outputs": [
    {
     "name": "stdout",
     "output_type": "stream",
     "text": [
      "[[7 8 9]\n",
      " [4 5 6]\n",
      " [1 2 3]]\n"
     ]
    }
   ],
   "source": [
    "import numpy as np\n",
    "array = np.array([[1, 2, 3],\n",
    "                  [4, 5, 6],\n",
    "                  [7, 8, 9]])\n",
    "\n",
    "row1_index = 0  \n",
    "row2_index = 2 \n",
    "temp_row = np.copy(array[row1_index])\n",
    "array[row1_index] = array[row2_index]\n",
    "array[row2_index] = temp_row\n",
    "print(array)"
   ]
  },
  {
   "cell_type": "markdown",
   "id": "e3e0b7b8",
   "metadata": {},
   "source": [
    "# 17.Write python code to reshape  to the next dimenssion of numpy array.\n",
    "\n"
   ]
  },
  {
   "cell_type": "code",
   "execution_count": 29,
   "id": "558eee5c",
   "metadata": {},
   "outputs": [
    {
     "name": "stdout",
     "output_type": "stream",
     "text": [
      "Original array:\n",
      "[1 2 3 4 5 6]\n",
      "Reshaped array:\n",
      "[[1 2 3]\n",
      " [4 5 6]]\n"
     ]
    }
   ],
   "source": [
    "import numpy as np\n",
    "original_array = np.array([1, 2, 3, 4, 5, 6])\n",
    "\n",
    "reshaped_array = original_array.reshape((2, -1))\n",
    "\n",
    "print(\"Original array:\")\n",
    "print(original_array)\n",
    "print(\"Reshaped array:\")\n",
    "print(reshaped_array)"
   ]
  },
  {
   "cell_type": "code",
   "execution_count": null,
   "id": "37362663",
   "metadata": {},
   "outputs": [],
   "source": []
  }
 ],
 "metadata": {
  "kernelspec": {
   "display_name": "Python 3 (ipykernel)",
   "language": "python",
   "name": "python3"
  },
  "language_info": {
   "codemirror_mode": {
    "name": "ipython",
    "version": 3
   },
   "file_extension": ".py",
   "mimetype": "text/x-python",
   "name": "python",
   "nbconvert_exporter": "python",
   "pygments_lexer": "ipython3",
   "version": "3.11.4"
  }
 },
 "nbformat": 4,
 "nbformat_minor": 5
}
