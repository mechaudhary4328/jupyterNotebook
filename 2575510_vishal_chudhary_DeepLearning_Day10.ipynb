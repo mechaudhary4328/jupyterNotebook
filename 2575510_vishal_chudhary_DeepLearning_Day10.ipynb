{
 "cells": [
  {
   "cell_type": "markdown",
   "id": "36f00b3f",
   "metadata": {},
   "source": [
    "# Bidirectional Long Short-Term Memory (BiLSTM) network using TensorFlow/Keras. "
   ]
  },
  {
   "cell_type": "code",
   "execution_count": 1,
   "id": "438d7ef9",
   "metadata": {},
   "outputs": [],
   "source": [
    "import tensorflow as tf\n",
    "from tensorflow.keras.datasets import imdb\n",
    "from tensorflow.keras.preprocessing import sequence\n",
    "from tensorflow.keras.models import Sequential\n",
    "from tensorflow.keras.layers import Embedding, Bidirectional, LSTM, Dense"
   ]
  },
  {
   "cell_type": "code",
   "execution_count": 2,
   "id": "eca67db7",
   "metadata": {},
   "outputs": [
    {
     "name": "stdout",
     "output_type": "stream",
     "text": [
      "Downloading data from https://storage.googleapis.com/tensorflow/tf-keras-datasets/imdb.npz\n",
      "17464789/17464789 [==============================] - 3s 0us/step\n"
     ]
    }
   ],
   "source": [
    "# Load the IMDB dataset\n",
    "max_features = 5000\n",
    "maxlen = 100\n",
    "batch_size = 32\n",
    "\n",
    "(x_train, y_train), (x_test, y_test) = imdb.load_data(num_words=max_features)\n",
    "x_train = sequence.pad_sequences(x_train, maxlen=maxlen)\n",
    "x_test = sequence.pad_sequences(x_test, maxlen=maxlen)"
   ]
  },
  {
   "cell_type": "code",
   "execution_count": 3,
   "id": "f9969098",
   "metadata": {},
   "outputs": [],
   "source": [
    "# Build the BiLSTM model\n",
    "model = Sequential()\n",
    "model.add(Embedding(max_features, 32, input_length=maxlen))\n",
    "model.add(Bidirectional(LSTM(64)))\n",
    "model.add(Dense(1, activation='sigmoid'))"
   ]
  },
  {
   "cell_type": "code",
   "execution_count": 4,
   "id": "b4947cc4",
   "metadata": {},
   "outputs": [],
   "source": [
    "# Compile the model\n",
    "model.compile(loss='binary_crossentropy', optimizer='adam', metrics=['accuracy'])"
   ]
  },
  {
   "cell_type": "code",
   "execution_count": 5,
   "id": "4be447ec",
   "metadata": {},
   "outputs": [
    {
     "name": "stdout",
     "output_type": "stream",
     "text": [
      "Epoch 1/3\n",
      "782/782 [==============================] - 80s 89ms/step - loss: 0.4353 - accuracy: 0.7865 - val_loss: 0.3554 - val_accuracy: 0.8440\n",
      "Epoch 2/3\n",
      "782/782 [==============================] - 63s 81ms/step - loss: 0.2999 - accuracy: 0.8746 - val_loss: 0.3373 - val_accuracy: 0.8520\n",
      "Epoch 3/3\n",
      "782/782 [==============================] - 62s 80ms/step - loss: 0.2536 - accuracy: 0.8991 - val_loss: 0.3512 - val_accuracy: 0.8515\n"
     ]
    },
    {
     "data": {
      "text/plain": [
       "<keras.src.callbacks.History at 0x25ff89dc1d0>"
      ]
     },
     "execution_count": 5,
     "metadata": {},
     "output_type": "execute_result"
    }
   ],
   "source": [
    "# Train the model\n",
    "model.fit(x_train, y_train, validation_data=(x_test, y_test), epochs=3, batch_size=batch_size)"
   ]
  },
  {
   "cell_type": "code",
   "execution_count": 6,
   "id": "f5c15699",
   "metadata": {},
   "outputs": [
    {
     "name": "stdout",
     "output_type": "stream",
     "text": [
      "782/782 [==============================] - 20s 25ms/step - loss: 0.3512 - accuracy: 0.8515\n",
      "Test score: 0.3512, Test accuracy: 0.8515\n"
     ]
    }
   ],
   "source": [
    "# Evaluate the model\n",
    "score, acc = model.evaluate(x_test, y_test, batch_size=batch_size)\n",
    "print(f'Test score: {score:.4f}, Test accuracy: {acc:.4f}')"
   ]
  },
  {
   "cell_type": "code",
   "execution_count": null,
   "id": "8dc62dd8",
   "metadata": {},
   "outputs": [],
   "source": []
  }
 ],
 "metadata": {
  "kernelspec": {
   "display_name": "Python 3 (ipykernel)",
   "language": "python",
   "name": "python3"
  },
  "language_info": {
   "codemirror_mode": {
    "name": "ipython",
    "version": 3
   },
   "file_extension": ".py",
   "mimetype": "text/x-python",
   "name": "python",
   "nbconvert_exporter": "python",
   "pygments_lexer": "ipython3",
   "version": "3.11.4"
  }
 },
 "nbformat": 4,
 "nbformat_minor": 5
}
