{
 "cells": [
  {
   "cell_type": "code",
   "execution_count": 1,
   "id": "2db0eb21",
   "metadata": {},
   "outputs": [],
   "source": [
    "%matplotlib inline\n",
    "import pandas as pd\n",
    "\n"
   ]
  },
  {
   "cell_type": "code",
   "execution_count": 6,
   "id": "91147efa",
   "metadata": {},
   "outputs": [
    {
     "data": {
      "text/html": [
       "<style></style>"
      ],
      "text/plain": [
       "<IPython.core.display.HTML object>"
      ]
     },
     "execution_count": 6,
     "metadata": {},
     "output_type": "execute_result"
    }
   ],
   "source": [
    "from IPython.core.display import HTML\n",
    "\n",
    "css_table = open('style-table.css').read()\n",
    "css_notebook = open('style-notebook.css').read()\n",
    "css_combined = css_table + css_notebook\n",
    "HTML(f'<style>{css_combined}</style>')\n",
    "\n"
   ]
  },
  {
   "cell_type": "code",
   "execution_count": 9,
   "id": "597e199e",
   "metadata": {},
   "outputs": [
    {
     "data": {
      "text/html": [
       "<div>\n",
       "<style scoped>\n",
       "    .dataframe tbody tr th:only-of-type {\n",
       "        vertical-align: middle;\n",
       "    }\n",
       "\n",
       "    .dataframe tbody tr th {\n",
       "        vertical-align: top;\n",
       "    }\n",
       "\n",
       "    .dataframe thead th {\n",
       "        text-align: right;\n",
       "    }\n",
       "</style>\n",
       "<table border=\"1\" class=\"dataframe\">\n",
       "  <thead>\n",
       "    <tr style=\"text-align: right;\">\n",
       "      <th></th>\n",
       "      <th>title</th>\n",
       "      <th>year</th>\n",
       "    </tr>\n",
       "  </thead>\n",
       "  <tbody>\n",
       "    <tr>\n",
       "      <th>0</th>\n",
       "      <td>Tasveer Mere Sanam</td>\n",
       "      <td>1996</td>\n",
       "    </tr>\n",
       "    <tr>\n",
       "      <th>1</th>\n",
       "      <td>Only You</td>\n",
       "      <td>1994</td>\n",
       "    </tr>\n",
       "    <tr>\n",
       "      <th>2</th>\n",
       "      <td>El pueblo del terror</td>\n",
       "      <td>1970</td>\n",
       "    </tr>\n",
       "    <tr>\n",
       "      <th>3</th>\n",
       "      <td>Machine</td>\n",
       "      <td>2007</td>\n",
       "    </tr>\n",
       "    <tr>\n",
       "      <th>4</th>\n",
       "      <td>MARy</td>\n",
       "      <td>2008</td>\n",
       "    </tr>\n",
       "  </tbody>\n",
       "</table>\n",
       "</div>"
      ],
      "text/plain": [
       "                  title  year\n",
       "0    Tasveer Mere Sanam  1996\n",
       "1              Only You  1994\n",
       "2  El pueblo del terror  1970\n",
       "3               Machine  2007\n",
       "4                  MARy  2008"
      ]
     },
     "execution_count": 9,
     "metadata": {},
     "output_type": "execute_result"
    }
   ],
   "source": [
    "import pandas as pd\n",
    "file_path = r'D:\\Practise exercise\\python S1\\titles.csv'\n",
    "titles = pd.read_csv(file_path)\n",
    "titles.head()\n"
   ]
  },
  {
   "cell_type": "markdown",
   "id": "4622139b",
   "metadata": {},
   "source": [
    "# How many movies are listed in the titles dataframe?\n",
    "\n"
   ]
  },
  {
   "cell_type": "code",
   "execution_count": 10,
   "id": "ea9dc158",
   "metadata": {},
   "outputs": [
    {
     "name": "stdout",
     "output_type": "stream",
     "text": [
      "Total number of movies listed in the DataFrame: 244914\n"
     ]
    }
   ],
   "source": [
    "num_movies = titles.shape[0]\n",
    "print(f'Total number of movies listed in the DataFrame: {num_movies}')"
   ]
  },
  {
   "cell_type": "markdown",
   "id": "e946a74f",
   "metadata": {},
   "source": [
    "# What are the earliest two films listed in the titles dataframe?\n"
   ]
  },
  {
   "cell_type": "code",
   "execution_count": 11,
   "id": "1f6f3978",
   "metadata": {},
   "outputs": [
    {
     "name": "stdout",
     "output_type": "stream",
     "text": [
      "                     title  year\n",
      "193222          Miss Jerry  1894\n",
      "51388   The Startled Lover  1898\n"
     ]
    }
   ],
   "source": [
    "earliest_films = titles.sort_values(by='year')\n",
    "earliest_two_films = earliest_films.head(2)\n",
    "print(earliest_two_films)"
   ]
  },
  {
   "cell_type": "markdown",
   "id": "1b351ed4",
   "metadata": {},
   "source": [
    "# How many movies have the title \"Hamlet\"?"
   ]
  },
  {
   "cell_type": "code",
   "execution_count": 12,
   "id": "96d298e1",
   "metadata": {},
   "outputs": [
    {
     "name": "stdout",
     "output_type": "stream",
     "text": [
      "Total number of movies with the title \"Hamlet\": 20\n"
     ]
    }
   ],
   "source": [
    "hamlet_movies = titles[titles['title'] == 'Hamlet']\n",
    "num_hamlet_movies = len(hamlet_movies)\n",
    "print(f'Total number of movies with the title \"Hamlet\": {num_hamlet_movies}')"
   ]
  },
  {
   "cell_type": "markdown",
   "id": "3b8a85f7",
   "metadata": {},
   "source": [
    "# How many movies are titled \"North by Northwest\"?\n"
   ]
  },
  {
   "cell_type": "code",
   "execution_count": 13,
   "id": "64b958a8",
   "metadata": {},
   "outputs": [
    {
     "name": "stdout",
     "output_type": "stream",
     "text": [
      "Number of movies titled \"North by Northwest\": 1\n"
     ]
    }
   ],
   "source": [
    "north_by_northwest_count = len(titles[titles['title'] == 'North by Northwest'])\n",
    "print(f'Number of movies titled \"North by Northwest\": {north_by_northwest_count}')\n"
   ]
  },
  {
   "cell_type": "markdown",
   "id": "39b84d7c",
   "metadata": {},
   "source": [
    "# When was the first movie titled \"Hamlet\" made?\n"
   ]
  },
  {
   "cell_type": "code",
   "execution_count": 14,
   "id": "4fe7b544",
   "metadata": {},
   "outputs": [
    {
     "name": "stdout",
     "output_type": "stream",
     "text": [
      "The first movie titled \"Hamlet\" was made in the year 1910.\n"
     ]
    }
   ],
   "source": [
    "hamlet_movies = titles[titles['title'] == 'Hamlet']\n",
    "first_hamlet_movie_year = hamlet_movies['year'].min()\n",
    "print(f'The first movie titled \"Hamlet\" was made in the year {first_hamlet_movie_year}.')\n"
   ]
  },
  {
   "cell_type": "markdown",
   "id": "57530edd",
   "metadata": {},
   "source": [
    "# List all of the \"Treasure Island\" movies from earliest to most recent.\n"
   ]
  },
  {
   "cell_type": "code",
   "execution_count": 15,
   "id": "bb3ae335",
   "metadata": {},
   "outputs": [
    {
     "name": "stdout",
     "output_type": "stream",
     "text": [
      "                  title  year\n",
      "55686   Treasure Island  1918\n",
      "196514  Treasure Island  1920\n",
      "141822  Treasure Island  1934\n",
      "77354   Treasure Island  1950\n",
      "65051   Treasure Island  1972\n",
      "37238   Treasure Island  1973\n",
      "173051  Treasure Island  1985\n",
      "27076   Treasure Island  1999\n"
     ]
    }
   ],
   "source": [
    "treasure_island_movies = titles[titles['title'] == 'Treasure Island']\n",
    "sorted_treasure_island_movies = treasure_island_movies.sort_values(by='year')\n",
    "print(sorted_treasure_island_movies)\n"
   ]
  },
  {
   "cell_type": "markdown",
   "id": "3360baa2",
   "metadata": {},
   "source": [
    "# How many movies were made in the year 1950?\n"
   ]
  },
  {
   "cell_type": "code",
   "execution_count": 16,
   "id": "7ed75bb6",
   "metadata": {},
   "outputs": [
    {
     "name": "stdout",
     "output_type": "stream",
     "text": [
      "Number of movies made in the year 1950: 1113\n"
     ]
    }
   ],
   "source": [
    "movies_1950_count = len(titles[titles['year'] == 1950])\n",
    "print(f'Number of movies made in the year 1950: {movies_1950_count}')\n"
   ]
  },
  {
   "cell_type": "markdown",
   "id": "033ba532",
   "metadata": {},
   "source": [
    "# How many movies were made in the year 1960?\n"
   ]
  },
  {
   "cell_type": "code",
   "execution_count": 17,
   "id": "42590d06",
   "metadata": {},
   "outputs": [
    {
     "name": "stdout",
     "output_type": "stream",
     "text": [
      "Number of movies made in the year 1960: 1549\n"
     ]
    }
   ],
   "source": [
    "movies_1960_count = len(titles[titles['year'] == 1960])\n",
    "print(f'Number of movies made in the year 1960: {movies_1960_count}')\n"
   ]
  },
  {
   "cell_type": "markdown",
   "id": "7ac4b7b1",
   "metadata": {},
   "source": [
    "# How many movies were made from 1950 through 1959?\n"
   ]
  },
  {
   "cell_type": "code",
   "execution_count": 18,
   "id": "ddcb3c61",
   "metadata": {},
   "outputs": [
    {
     "name": "stdout",
     "output_type": "stream",
     "text": [
      "Number of movies made from 1950 through 1959: 12934\n"
     ]
    }
   ],
   "source": [
    "movies_1950s_count = len(titles[(titles['year'] >= 1950) & (titles['year'] <= 1959)])\n",
    "print(f'Number of movies made from 1950 through 1959: {movies_1950s_count}')\n"
   ]
  },
  {
   "cell_type": "markdown",
   "id": "43e9a480",
   "metadata": {},
   "source": [
    "# In what years has a movie titled \"Batman\" been released?\n"
   ]
  },
  {
   "cell_type": "code",
   "execution_count": 19,
   "id": "e3e148d9",
   "metadata": {},
   "outputs": [
    {
     "name": "stdout",
     "output_type": "stream",
     "text": [
      "Years in which movies titled \"Batman\" were released: [1943 1989]\n"
     ]
    }
   ],
   "source": [
    "batman_movie_years = titles[titles['title'] == 'Batman']['year'].unique()\n",
    "print(f'Years in which movies titled \"Batman\" were released: {batman_movie_years}')\n"
   ]
  },
  {
   "cell_type": "markdown",
   "id": "91b3d1ef",
   "metadata": {},
   "source": [
    "# How many roles were there in the movie \"Inception \"?\n"
   ]
  },
  {
   "cell_type": "code",
   "execution_count": 25,
   "id": "d4644836",
   "metadata": {},
   "outputs": [
    {
     "name": "stdout",
     "output_type": "stream",
     "text": [
      "Number of roles in the movie \"Inception\": 78\n"
     ]
    }
   ],
   "source": [
    "import pandas as pd\n",
    "cast = pd.read_csv('D:\\Practise exercise\\python S1\\cast.csv')\n",
    "\n",
    "inception_roles_count = len(cast[cast['title'] == 'Inception'])\n",
    "print(f'Number of roles in the movie \"Inception\": {inception_roles_count}')\n"
   ]
  },
  {
   "cell_type": "markdown",
   "id": "30ed78a3",
   "metadata": {},
   "source": [
    "# How many roles in the movie \"Inception\" are NOT ranked by an \"n\" value?\n"
   ]
  },
  {
   "cell_type": "code",
   "execution_count": 26,
   "id": "3092c1f8",
   "metadata": {},
   "outputs": [
    {
     "name": "stdout",
     "output_type": "stream",
     "text": [
      "Number of roles in the movie \"Inception\" without an \"n\" value: 27\n"
     ]
    }
   ],
   "source": [
    "inception_without_n_value_count = len(cast[(cast['title'] == 'Inception') & cast['n'].isna()])\n",
    "print(f'Number of roles in the movie \"Inception\" without an \"n\" value: {inception_without_n_value_count}')\n"
   ]
  },
  {
   "cell_type": "markdown",
   "id": "66693e89",
   "metadata": {},
   "source": [
    "# How many roles in the movie \"Inception\" did receive an \"n\" value?\n"
   ]
  },
  {
   "cell_type": "code",
   "execution_count": 27,
   "id": "9fa8582c",
   "metadata": {},
   "outputs": [
    {
     "name": "stdout",
     "output_type": "stream",
     "text": [
      "Number of roles in the movie \"Inception\" with an \"n\" value: 51\n"
     ]
    }
   ],
   "source": [
    "inception_with_n_value_count = len(cast[(cast['title'] == 'Inception') & ~cast['n'].isna()])\n",
    "print(f'Number of roles in the movie \"Inception\" with an \"n\" value: {inception_with_n_value_count}')\n"
   ]
  },
  {
   "cell_type": "markdown",
   "id": "a3639658",
   "metadata": {},
   "source": [
    "# Display the cast of \"North by Northwest\" in their correct \"n\" value order, ignoring roles that did not earn a numeric \"n\" value."
   ]
  },
  {
   "cell_type": "code",
   "execution_count": 28,
   "id": "c3beacae",
   "metadata": {},
   "outputs": [
    {
     "name": "stdout",
     "output_type": "stream",
     "text": [
      "                      title  year                  name     type  \\\n",
      "871426   North by Northwest  1959            Cary Grant    actor   \n",
      "3518333  North by Northwest  1959       Eva Marie Saint  actress   \n",
      "1457165  North by Northwest  1959           James Mason    actor   \n",
      "3157232  North by Northwest  1959   Jessie Royce Landis  actress   \n",
      "356707   North by Northwest  1959        Leo G. Carroll    actor   \n",
      "3048272  North by Northwest  1959  Josephine Hutchinson  actress   \n",
      "1695173  North by Northwest  1959           Philip Ober    actor   \n",
      "1275337  North by Northwest  1959         Martin Landau    actor   \n",
      "2447081  North by Northwest  1959         Adam Williams    actor   \n",
      "1811387  North by Northwest  1959          Edward Platt    actor   \n",
      "665768   North by Northwest  1959     Robert Ellenstein    actor   \n",
      "2295714  North by Northwest  1959          Les Tremayne    actor   \n",
      "464736   North by Northwest  1959       Philip Coolidge    actor   \n",
      "1508344  North by Northwest  1959         Patrick McVey    actor   \n",
      "206471   North by Northwest  1959          Edward Binns    actor   \n",
      "1384780  North by Northwest  1959             Ken Lynch    actor   \n",
      "\n",
      "                           character     n  \n",
      "871426            Roger O. Thornhill   1.0  \n",
      "3518333                  Eve Kendall   2.0  \n",
      "1457165              Phillip Vandamm   3.0  \n",
      "3157232              Clara Thornhill   4.0  \n",
      "356707                 The Professor   5.0  \n",
      "3048272                Mrs. Townsend   6.0  \n",
      "1695173              Lester Townsend   7.0  \n",
      "1275337                      Leonard   8.0  \n",
      "2447081                     Valerian   9.0  \n",
      "1811387              Victor Larrabee  10.0  \n",
      "665768                         Licht  11.0  \n",
      "2295714                   Auctioneer  12.0  \n",
      "464736                     Dr. Cross  13.0  \n",
      "1508344               Sergeant Flamm  14.0  \n",
      "206471                Captain Junket  15.0  \n",
      "1384780  Charley - Chicago Policeman  16.0  \n"
     ]
    }
   ],
   "source": [
    "north_by_northwest_cast = cast[(cast['title'] == 'North by Northwest') & ~cast['n'].isna()]\n",
    "sorted_north_by_northwest_cast = north_by_northwest_cast.sort_values(by='n')\n",
    "print(sorted_north_by_northwest_cast)\n"
   ]
  },
  {
   "cell_type": "markdown",
   "id": "78e40d4e",
   "metadata": {},
   "source": [
    "# Display the entire cast, in \"n\" order, of the 1972 film \"Sleuth\".\n"
   ]
  },
  {
   "cell_type": "code",
   "execution_count": 29,
   "id": "91de0a9d",
   "metadata": {},
   "outputs": [
    {
     "name": "stdout",
     "output_type": "stream",
     "text": [
      "          title  year                name     type  \\\n",
      "1705394  Sleuth  1972    Laurence Olivier    actor   \n",
      "326773   Sleuth  1972       Michael Caine    actor   \n",
      "373876   Sleuth  1972      Alec Cawthorne    actor   \n",
      "1465483  Sleuth  1972  John (II) Matthews    actor   \n",
      "2724553  Sleuth  1972  Eve (III) Channing  actress   \n",
      "1448690  Sleuth  1972        Teddy Martin    actor   \n",
      "\n",
      "                          character    n  \n",
      "1705394                 Andrew Wyke  1.0  \n",
      "326773                  Milo Tindle  2.0  \n",
      "373876            Inspector Doppler  3.0  \n",
      "1465483  Detective Sergeant Tarrant  4.0  \n",
      "2724553             Marguerite Wyke  5.0  \n",
      "1448690      Police Constable Higgs  6.0  \n"
     ]
    }
   ],
   "source": [
    "sleuth_1972_cast = cast[(cast['title'] == 'Sleuth') & (cast['year'] == 1972)]\n",
    "sorted_sleuth_1972_cast = sleuth_1972_cast.sort_values(by='n')\n",
    "print(sorted_sleuth_1972_cast)\n"
   ]
  },
  {
   "cell_type": "markdown",
   "id": "0315f94e",
   "metadata": {},
   "source": [
    "# Display the entire cast, in \"n\" order, of the 2007 version of \"Sleuth.\"\n"
   ]
  },
  {
   "cell_type": "code",
   "execution_count": 30,
   "id": "5b52c559",
   "metadata": {},
   "outputs": [
    {
     "name": "stdout",
     "output_type": "stream",
     "text": [
      "          title  year                 name     type          character    n\n",
      "326774   Sleuth  2007        Michael Caine    actor             Andrew  1.0\n",
      "1293634  Sleuth  2007             Jude Law    actor               Milo  2.0\n",
      "1805907  Sleuth  2007        Harold Pinter    actor        Man on T.V.  3.0\n",
      "260242   Sleuth  2007      Kenneth Branagh    actor  Other Man on T.V.  NaN\n",
      "373877   Sleuth  2007  Alec (II) Cawthorne    actor  Inspector Doppler  NaN\n",
      "2724552  Sleuth  2007    Eve (II) Channing  actress    Marguerite Wyke  NaN\n",
      "3370424  Sleuth  2007    Carmel O'Sullivan  actress             Maggie  NaN\n"
     ]
    }
   ],
   "source": [
    "sleuth_2007_cast = cast[(cast['title'] == 'Sleuth') & (cast['year'] == 2007)]\n",
    "sorted_sleuth_2007_cast = sleuth_2007_cast.sort_values(by='n')\n",
    "print(sorted_sleuth_2007_cast)\n"
   ]
  },
  {
   "cell_type": "markdown",
   "id": "01a71b22",
   "metadata": {},
   "source": [
    "# How many roles were credited in the silent 1921 version of \"Hamlet\"?\n"
   ]
  },
  {
   "cell_type": "code",
   "execution_count": 31,
   "id": "f4832cf1",
   "metadata": {},
   "outputs": [
    {
     "name": "stdout",
     "output_type": "stream",
     "text": [
      "Number of roles credited in the silent 1921 version of \"Hamlet\": 9\n"
     ]
    }
   ],
   "source": [
    "hamlet_1921_roles_count = len(cast[(cast['title'] == 'Hamlet') & (cast['year'] == 1921)])\n",
    "print(f'Number of roles credited in the silent 1921 version of \"Hamlet\": {hamlet_1921_roles_count}')\n"
   ]
  },
  {
   "cell_type": "markdown",
   "id": "e4035511",
   "metadata": {},
   "source": [
    "# How many roles were credited in Branagh's 1996 \"Hamlet\"?\n"
   ]
  },
  {
   "cell_type": "code",
   "execution_count": 32,
   "id": "1b819c75",
   "metadata": {},
   "outputs": [
    {
     "name": "stdout",
     "output_type": "stream",
     "text": [
      "Number of roles credited in Branagh's 1996 \"Hamlet\": 54\n"
     ]
    }
   ],
   "source": [
    "hamlet_1996_roles_count = len(cast[(cast['title'] == 'Hamlet') & (cast['year'] == 1996)])\n",
    "print(f'Number of roles credited in Branagh\\'s 1996 \"Hamlet\": {hamlet_1996_roles_count}')\n"
   ]
  },
  {
   "cell_type": "markdown",
   "id": "8eb652a3",
   "metadata": {},
   "source": [
    "# How many \"Hamlet\" roles have been listed in all film credits through history?\n"
   ]
  },
  {
   "cell_type": "code",
   "execution_count": 33,
   "id": "601f5b62",
   "metadata": {},
   "outputs": [
    {
     "name": "stdout",
     "output_type": "stream",
     "text": [
      "Number of \"Hamlet\" roles listed in all film credits through history: 342\n"
     ]
    }
   ],
   "source": [
    "hamlet_roles_count = len(cast[cast['title'] == 'Hamlet'])\n",
    "print(f'Number of \"Hamlet\" roles listed in all film credits through history: {hamlet_roles_count}')\n"
   ]
  },
  {
   "cell_type": "markdown",
   "id": "667af79c",
   "metadata": {},
   "source": [
    "# How many people have played an \"Ophelia\"?\n"
   ]
  },
  {
   "cell_type": "code",
   "execution_count": 34,
   "id": "37a62680",
   "metadata": {},
   "outputs": [
    {
     "name": "stdout",
     "output_type": "stream",
     "text": [
      "Number of people who have played an \"Ophelia\": 117\n"
     ]
    }
   ],
   "source": [
    "ophelia_actors_count = len(cast[cast['character'] == 'Ophelia'])\n",
    "print(f'Number of people who have played an \"Ophelia\": {ophelia_actors_count}')\n"
   ]
  },
  {
   "cell_type": "markdown",
   "id": "95835c37",
   "metadata": {},
   "source": [
    "# How many people have played a role called \"The Dude\"?\n"
   ]
  },
  {
   "cell_type": "code",
   "execution_count": 35,
   "id": "593e8ef7",
   "metadata": {},
   "outputs": [
    {
     "name": "stdout",
     "output_type": "stream",
     "text": [
      "Number of people who have played a role called \"The Dude\": 19\n"
     ]
    }
   ],
   "source": [
    "the_dude_actors_count = len(cast[cast['character'] == 'The Dude'])\n",
    "print(f'Number of people who have played a role called \"The Dude\": {the_dude_actors_count}')\n"
   ]
  },
  {
   "cell_type": "markdown",
   "id": "2ea3b396",
   "metadata": {},
   "source": [
    "# How many people have played a role called \"The Stranger\"?\n"
   ]
  },
  {
   "cell_type": "code",
   "execution_count": 36,
   "id": "9b88e4f8",
   "metadata": {},
   "outputs": [
    {
     "name": "stdout",
     "output_type": "stream",
     "text": [
      "Number of people who have played a role called \"The Stranger\": 212\n"
     ]
    }
   ],
   "source": [
    "the_stranger_actors_count = len(cast[cast['character'] == 'The Stranger'])\n",
    "print(f'Number of people who have played a role called \"The Stranger\": {the_stranger_actors_count}')\n"
   ]
  },
  {
   "cell_type": "markdown",
   "id": "6541d393",
   "metadata": {},
   "source": [
    "# How many roles has Sidney Poitier played throughout his career?\n"
   ]
  },
  {
   "cell_type": "code",
   "execution_count": 37,
   "id": "7c71f7cb",
   "metadata": {},
   "outputs": [
    {
     "name": "stdout",
     "output_type": "stream",
     "text": [
      "Number of roles played by Sidney Poitier throughout his career: 43\n"
     ]
    }
   ],
   "source": [
    "sidney_poitier_roles_count = len(cast[cast['name'] == 'Sidney Poitier'])\n",
    "print(f'Number of roles played by Sidney Poitier throughout his career: {sidney_poitier_roles_count}')\n"
   ]
  },
  {
   "cell_type": "markdown",
   "id": "88f63a71",
   "metadata": {},
   "source": [
    "# How many roles has Judi Dench played?\n"
   ]
  },
  {
   "cell_type": "code",
   "execution_count": 38,
   "id": "408b6f61",
   "metadata": {},
   "outputs": [
    {
     "name": "stdout",
     "output_type": "stream",
     "text": [
      "Number of roles played by Judi Dench: 55\n"
     ]
    }
   ],
   "source": [
    "judi_dench_roles_count = len(cast[cast['name'] == 'Judi Dench'])\n",
    "print(f'Number of roles played by Judi Dench: {judi_dench_roles_count}')\n"
   ]
  },
  {
   "cell_type": "markdown",
   "id": "b0c5f312",
   "metadata": {},
   "source": [
    "# List the supporting roles (having n=2) played by Cary Grant in the 1940s, in order by year.\n"
   ]
  },
  {
   "cell_type": "code",
   "execution_count": 39,
   "id": "ccdd87bf",
   "metadata": {},
   "outputs": [
    {
     "name": "stdout",
     "output_type": "stream",
     "text": [
      "                   title  year        name   type    character    n\n",
      "871423  My Favorite Wife  1940  Cary Grant  actor   Nick Arden  2.0\n",
      "871433    Penny Serenade  1941  Cary Grant  actor  Roger Adams  2.0\n"
     ]
    }
   ],
   "source": [
    "cary_grant_supporting_roles_1940s = cast[(cast['name'] == 'Cary Grant') & (cast['n'] == 2) & (cast['year'] >= 1940) & (cast['year'] <= 1949)]\n",
    "sorted_cary_grant_supporting_roles = cary_grant_supporting_roles_1940s.sort_values(by='year')\n",
    "print(sorted_cary_grant_supporting_roles)\n"
   ]
  },
  {
   "cell_type": "markdown",
   "id": "6bb665f7",
   "metadata": {},
   "source": [
    "# List the leading roles that Cary Grant played in the 1940s in order by year:\n"
   ]
  },
  {
   "cell_type": "code",
   "execution_count": 40,
   "id": "ac0c16e7",
   "metadata": {},
   "outputs": [
    {
     "name": "stdout",
     "output_type": "stream",
     "text": [
      "                                       title  year        name   type  \\\n",
      "871448               The Howards of Virginia  1940  Cary Grant  actor   \n",
      "871407                       His Girl Friday  1940  Cary Grant  actor   \n",
      "871450                The Philadelphia Story  1940  Cary Grant  actor   \n",
      "871438                             Suspicion  1941  Cary Grant  actor   \n",
      "871452                  The Talk of the Town  1942  Cary Grant  actor   \n",
      "871429                 Once Upon a Honeymoon  1942  Cary Grant  actor   \n",
      "871398                     Destination Tokyo  1943  Cary Grant  actor   \n",
      "871422                             Mr. Lucky  1943  Cary Grant  actor   \n",
      "871430                      Once Upon a Time  1944  Cary Grant  actor   \n",
      "871390                  Arsenic and Old Lace  1944  Cary Grant  actor   \n",
      "871425             None But the Lonely Heart  1944  Cary Grant  actor   \n",
      "871424                         Night and Day  1946  Cary Grant  actor   \n",
      "871427                             Notorious  1946  Cary Grant  actor   \n",
      "871444      The Bachelor and the Bobby-Soxer  1947  Cary Grant  actor   \n",
      "871445                     The Bishop's Wife  1947  Cary Grant  actor   \n",
      "871421  Mr. Blandings Builds His Dream House  1948  Cary Grant  actor   \n",
      "871402          Every Girl Should Be Married  1948  Cary Grant  actor   \n",
      "871411                I Was a Male War Bride  1949  Cary Grant  actor   \n",
      "\n",
      "                                   character    n  \n",
      "871448                           Matt Howard  1.0  \n",
      "871407                          Walter Burns  1.0  \n",
      "871450                    C. K. Dexter Haven  1.0  \n",
      "871438                      Johnnie Aysgarth  1.0  \n",
      "871452                          Leopold Dilg  1.0  \n",
      "871429                 Patrick 'Pat' O'Toole  1.0  \n",
      "871398                         Capt. Cassidy  1.0  \n",
      "871422  Joe Adams -posing as Joe Bascopolous  1.0  \n",
      "871430                           Jerry Flynn  1.0  \n",
      "871390                     Mortimer Brewster  1.0  \n",
      "871425                            Ernie Mott  1.0  \n",
      "871424                           Cole Porter  1.0  \n",
      "871427                                Devlin  1.0  \n",
      "871444                           Dick Nugent  1.0  \n",
      "871445                                Dudley  1.0  \n",
      "871421                         Jim Blandings  1.0  \n",
      "871402                     Dr. Madison Brown  1.0  \n",
      "871411                 Captain Henri Rochard  1.0  \n"
     ]
    }
   ],
   "source": [
    "cary_grant_leading_roles_1940s = cast[(cast['name'] == 'Cary Grant') & (cast['n'] == 1) & (cast['year'] >= 1940) & (cast['year'] <= 1949)]\n",
    "sorted_cary_grant_leading_roles = cary_grant_leading_roles_1940s.sort_values(by='year')\n",
    "print(sorted_cary_grant_leading_roles)\n"
   ]
  },
  {
   "cell_type": "markdown",
   "id": "3101e748",
   "metadata": {},
   "source": [
    "# How many roles were available for actors in the 1950s?\n"
   ]
  },
  {
   "cell_type": "code",
   "execution_count": 41,
   "id": "a78c4b2d",
   "metadata": {},
   "outputs": [
    {
     "name": "stdout",
     "output_type": "stream",
     "text": [
      "Number of roles available for actors in the 1950s: 157738\n"
     ]
    }
   ],
   "source": [
    "roles_available_for_actors_1950s = len(cast[(cast['type'] == 'actor') & (cast['year'] >= 1950) & (cast['year'] <= 1959)])\n",
    "print(f'Number of roles available for actors in the 1950s: {roles_available_for_actors_1950s}')\n"
   ]
  },
  {
   "cell_type": "markdown",
   "id": "a19bd101",
   "metadata": {},
   "source": [
    "# How many roles were available for actresses in the 1950s?\n"
   ]
  },
  {
   "cell_type": "code",
   "execution_count": 42,
   "id": "65eecb37",
   "metadata": {},
   "outputs": [
    {
     "name": "stdout",
     "output_type": "stream",
     "text": [
      "Number of roles available for actresses in the 1950s: 57733\n"
     ]
    }
   ],
   "source": [
    "roles_available_for_actresses_1950s = len(cast[(cast['type'] == 'actress') & (cast['year'] >= 1950) & (cast['year'] <= 1959)])\n",
    "print(f'Number of roles available for actresses in the 1950s: {roles_available_for_actresses_1950s}')\n"
   ]
  },
  {
   "cell_type": "markdown",
   "id": "e6929e82",
   "metadata": {},
   "source": [
    "# How many leading roles (n=1) were available from the beginning of film history through 1980?\n"
   ]
  },
  {
   "cell_type": "code",
   "execution_count": 43,
   "id": "c2e1d04a",
   "metadata": {},
   "outputs": [
    {
     "name": "stdout",
     "output_type": "stream",
     "text": [
      "Number of leading roles (n=1) available from the beginning of film history through 1980: 65140\n"
     ]
    }
   ],
   "source": [
    "leading_roles_through_1980 = len(cast[(cast['n'] == 1) & (cast['year'] <= 1980)])\n",
    "print(f'Number of leading roles (n=1) available from the beginning of film history through 1980: {leading_roles_through_1980}')\n"
   ]
  },
  {
   "cell_type": "markdown",
   "id": "fa500e43",
   "metadata": {},
   "source": [
    "# How many non-leading roles were available from the beginning of film history through 1980?\n"
   ]
  },
  {
   "cell_type": "code",
   "execution_count": 44,
   "id": "e4f848a1",
   "metadata": {},
   "outputs": [
    {
     "name": "stdout",
     "output_type": "stream",
     "text": [
      "Number of non-leading roles available from the beginning of film history through 1980: 1117667\n"
     ]
    }
   ],
   "source": [
    "non_leading_roles_through_1980 = len(cast[(cast['n'] != 1) & (cast['year'] <= 1980)])\n",
    "print(f'Number of non-leading roles available from the beginning of film history through 1980: {non_leading_roles_through_1980}')\n"
   ]
  },
  {
   "cell_type": "markdown",
   "id": "67d25b9d",
   "metadata": {},
   "source": [
    "# How many roles through 1980 were minor enough that they did not warrant a numeric \"n\" rank?"
   ]
  },
  {
   "cell_type": "code",
   "execution_count": 45,
   "id": "e906362e",
   "metadata": {},
   "outputs": [
    {
     "name": "stdout",
     "output_type": "stream",
     "text": [
      "Number of roles through 1980 without a numeric \"n\" rank: 448347\n"
     ]
    }
   ],
   "source": [
    "roles_without_numeric_rank_through_1980 = len(cast[(cast['year'] <= 1980) & cast['n'].isna()])\n",
    "print(f'Number of roles through 1980 without a numeric \"n\" rank: {roles_without_numeric_rank_through_1980}')\n"
   ]
  },
  {
   "cell_type": "code",
   "execution_count": null,
   "id": "4307c553",
   "metadata": {},
   "outputs": [],
   "source": []
  }
 ],
 "metadata": {
  "kernelspec": {
   "display_name": "Python 3 (ipykernel)",
   "language": "python",
   "name": "python3"
  },
  "language_info": {
   "codemirror_mode": {
    "name": "ipython",
    "version": 3
   },
   "file_extension": ".py",
   "mimetype": "text/x-python",
   "name": "python",
   "nbconvert_exporter": "python",
   "pygments_lexer": "ipython3",
   "version": "3.11.4"
  }
 },
 "nbformat": 4,
 "nbformat_minor": 5
}
