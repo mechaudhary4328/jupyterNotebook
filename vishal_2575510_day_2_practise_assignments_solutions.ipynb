{
 "cells": [
  {
   "cell_type": "markdown",
   "id": "6340cc3a",
   "metadata": {},
   "source": [
    "# 1. Write a python Function to list even and odd numbers in a list"
   ]
  },
  {
   "cell_type": "code",
   "execution_count": 1,
   "id": "7ed2b1e3",
   "metadata": {},
   "outputs": [
    {
     "name": "stdout",
     "output_type": "stream",
     "text": [
      "Enter a list of numbers separated by spaces: 8\n",
      "Even numbers: [8]\n",
      "Odd numbers: []\n"
     ]
    }
   ],
   "source": [
    "def list_even_odd(numbers):\n",
    "    even_numbers = []\n",
    "    odd_numbers = []\n",
    "    for num in numbers:\n",
    "        if num % 2 == 0:\n",
    "            even_numbers.append(num)\n",
    "        else:\n",
    "            odd_numbers.append(num)\n",
    "    return even_numbers, odd_numbers\n",
    "input_str = input(\"Enter a list of numbers separated by spaces: \")\n",
    "user_input = input_str.split()\n",
    "numbers = [int(num) for num in user_input]\n",
    "even, odd = list_even_odd(numbers)\n",
    "print(\"Even numbers:\", even)\n",
    "print(\"Odd numbers:\", odd)\n",
    "\n"
   ]
  },
  {
   "cell_type": "markdown",
   "id": "cbfa50fc",
   "metadata": {},
   "source": [
    "#  2. Write and run a Python program that asks the user to enter 8 integers (one at a time), and then prints out how many of those integers were even numbers. For example, if the user entered 19. 6, 9, 20, 13, 7, 6, and 1, then your program should print out 3 since 3 of those numbers were even\n",
    "\n"
   ]
  },
  {
   "cell_type": "code",
   "execution_count": null,
   "id": "6f265f94",
   "metadata": {},
   "outputs": [
    {
     "name": "stdout",
     "output_type": "stream",
     "text": [
      "Enter integer 1: 4\n"
     ]
    }
   ],
   "source": [
    "even_count = 0\n",
    "for i in range(8):\n",
    "    user_input = input(f\"Enter integer {i + 1}: \")\n",
    "    if user_input.isdigit():\n",
    "        num = int(user_input)\n",
    "        if num % 2 == 0:\n",
    "            even_count += 1\n",
    "    else:\n",
    "        print(\"Invalid input. Please enter a valid integer.\")\n",
    "print(f\"The number of even integers entered is: {even_count}\")\n"
   ]
  },
  {
   "cell_type": "markdown",
   "id": "5a3fd550",
   "metadata": {},
   "source": [
    "# 3. Write a Python program where you take any positive integer n, if n is even, divide it by 2 to get n/2 If is odd, multiply it by 3 and add 1 to obtain 3n+1. Repeat the process until you reach 1. \n"
   ]
  },
  {
   "cell_type": "code",
   "execution_count": 17,
   "id": "396190f8",
   "metadata": {},
   "outputs": [
    {
     "name": "stdout",
     "output_type": "stream",
     "text": [
      "Enter a positive integer: #\n",
      "Invalid input. Please enter a positive integer.\n"
     ]
    }
   ],
   "source": [
    "def collatz_sequence(n):\n",
    "    while n != 1:\n",
    "        print(n, end=' ')\n",
    "        if n % 2 == 0:\n",
    "            n = n // 2\n",
    "        else:\n",
    "            n = 3 * n + 1\n",
    "try:\n",
    "    n = int(input(\"Enter a positive integer: \"))\n",
    "    if n <= 0:\n",
    "        print(\"Please enter a positive integer.\")\n",
    "    else:\n",
    "        collatz_sequence(n)\n",
    "except ValueError:\n",
    "    print(\"Invalid input. Please enter a positive integer.\")\n"
   ]
  },
  {
   "cell_type": "markdown",
   "id": "2349a7ee",
   "metadata": {},
   "source": [
    "# 4. Write a Python program to compute the sum of all the multiples of 3 or 5 below 500."
   ]
  },
  {
   "cell_type": "code",
   "execution_count": 18,
   "id": "7cb38493",
   "metadata": {},
   "outputs": [
    {
     "name": "stdout",
     "output_type": "stream",
     "text": [
      "57918\n"
     ]
    }
   ],
   "source": [
    "def sum_multiples_3_5(limit):\n",
    "    total = 0\n",
    "    for i in range(limit):\n",
    "        if i % 3 == 0 or i % 5 == 0:\n",
    "            total += i\n",
    "    return total\n",
    "\n",
    "print(sum_multiples_3_5(500))\n"
   ]
  },
  {
   "cell_type": "markdown",
   "id": "095a14d0",
   "metadata": {},
   "source": [
    "# 5. To write a Python program to find first 'n' prime numbers from a list of given numbers.\n"
   ]
  },
  {
   "cell_type": "code",
   "execution_count": 19,
   "id": "2e27380e",
   "metadata": {},
   "outputs": [
    {
     "name": "stdout",
     "output_type": "stream",
     "text": [
      "Enter the value of n: 15\n",
      "[2, 3, 5, 7, 11, 13, 17, 19, 23, 29, 31, 37, 41, 43, 47]\n"
     ]
    }
   ],
   "source": [
    "def is_prime(num):\n",
    "    if num <= 1:\n",
    "        return False\n",
    "    for i in range(2, int(num**0.5) + 1):\n",
    "        if num % i == 0:\n",
    "            return False\n",
    "    return True\n",
    "\n",
    "def find_n_primes(n):\n",
    "    primes = []\n",
    "    num = 2\n",
    "    while len(primes) < n:\n",
    "        if is_prime(num):\n",
    "            primes.append(num)\n",
    "        num += 1\n",
    "    return primes\n",
    "\n",
    "n = int(input(\"Enter the value of n: \"))\n",
    "print(find_n_primes(n))\n"
   ]
  },
  {
   "cell_type": "markdown",
   "id": "b5c6efae",
   "metadata": {},
   "source": [
    "# 6. write a Python program to compute matrix multiplication.\n"
   ]
  },
  {
   "cell_type": "code",
   "execution_count": 15,
   "id": "1743bfb8",
   "metadata": {},
   "outputs": [
    {
     "name": "stdout",
     "output_type": "stream",
     "text": [
      "[114, 160, 60, 27]\n",
      "[74, 97, 73, 14]\n",
      "[119, 157, 112, 23]\n"
     ]
    }
   ],
   "source": [
    "\n",
    "A = [[12, 7, 3],\n",
    "     [4, 5, 6],\n",
    "     [7, 8, 9]]\n",
    "\n",
    "# take a 3x4 matrix\n",
    "B = [[5, 8, 1, 2],\n",
    "     [6, 7, 3, 0], \n",
    "     [4, 5, 9, 1]]\n",
    "\n",
    "# result will be 3x4\n",
    "result = [[sum(a * b for a, b in zip(A_row, B_col))\n",
    "          for B_col in zip(*B)]\n",
    "              for A_row in A]\n",
    "for r in result:\n",
    "  print(r)\n"
   ]
  },
  {
   "cell_type": "markdown",
   "id": "390f0e18",
   "metadata": {},
   "source": [
    "# 7. Write a python Function to count the number of vowels in a string"
   ]
  },
  {
   "cell_type": "code",
   "execution_count": 20,
   "id": "035e0e4e",
   "metadata": {},
   "outputs": [
    {
     "name": "stdout",
     "output_type": "stream",
     "text": [
      "Enter a string: hello this side vishal chaudhary\n",
      "Number of vowels in the string: 10\n"
     ]
    }
   ],
   "source": [
    "def count_vowels(string):\n",
    "    string = string.lower()\n",
    "    vowel_count = 0\n",
    "    vowels = set(\"aeiou\")\n",
    "    for char in string:\n",
    "        if char in vowels:\n",
    "            vowel_count += 1\n",
    "    \n",
    "    return vowel_count\n",
    "input_string = input(\"Enter a string: \")\n",
    "result = count_vowels(input_string)\n",
    "print(f\"Number of vowels in the string: {result}\")\n"
   ]
  },
  {
   "cell_type": "markdown",
   "id": "217208c7",
   "metadata": {},
   "source": [
    "# 8. Write a python Function for finding factorial for the given number using a recursive function.\n"
   ]
  },
  {
   "cell_type": "code",
   "execution_count": 2,
   "id": "6231e643",
   "metadata": {},
   "outputs": [
    {
     "name": "stdout",
     "output_type": "stream",
     "text": [
      "The factorial of 5 is 120\n"
     ]
    }
   ],
   "source": [
    "def factorial(n):\n",
    "    if n == 0 or n == 1:\n",
    "        return 1\n",
    "    else:\n",
    "        return n * factorial(n - 1)\n",
    "number = 5  \n",
    "result = factorial(number)\n",
    "print(f\"The factorial of {number} is {result}\")\n"
   ]
  },
  {
   "cell_type": "markdown",
   "id": "78e4bf0d",
   "metadata": {},
   "source": [
    "# 9. Write a python Function for generating the Fibonacci series using the function.\n",
    "\n"
   ]
  },
  {
   "cell_type": "code",
   "execution_count": 5,
   "id": "30120b31",
   "metadata": {},
   "outputs": [
    {
     "name": "stdout",
     "output_type": "stream",
     "text": [
      "Fibonacci series with 10 terms: [0, 1, 1, 2, 3, 5, 8, 13, 21, 34]\n"
     ]
    }
   ],
   "source": [
    "def generate_fibonacci_series(n):\n",
    "    fibonacci_series = []\n",
    "    if n <= 0:\n",
    "        return fibonacci_series\n",
    "    elif n == 1:\n",
    "        return [0]\n",
    "    elif n == 2:\n",
    "        return [0, 1]\n",
    "    a, b = 0, 1\n",
    "    fibonacci_series.append(a)\n",
    "    fibonacci_series.append(b)\n",
    "    for _ in range(2, n):\n",
    "        next_fib = a + b\n",
    "        fibonacci_series.append(next_fib)\n",
    "        a, b = b, next_fib\n",
    "    \n",
    "    return fibonacci_series\n",
    "\n",
    "num_terms = 10 \n",
    "fib_series = generate_fibonacci_series(num_terms)\n",
    "print(f\"Fibonacci series with {num_terms} terms: {fib_series}\")\n",
    "\n"
   ]
  },
  {
   "cell_type": "markdown",
   "id": "0c3ce34f",
   "metadata": {},
   "source": [
    "# 10. Python program to display the given integer in reverse order using the function without an in-built function\n"
   ]
  },
  {
   "cell_type": "code",
   "execution_count": 6,
   "id": "49117bd3",
   "metadata": {},
   "outputs": [
    {
     "name": "stdout",
     "output_type": "stream",
     "text": [
      "Original integer: 12345\n",
      "Integer in reverse order: 54321\n"
     ]
    }
   ],
   "source": [
    "def reverse_integer(num):\n",
    "    num_str = str(num)\n",
    "    reversed_str = num_str[::-1]\n",
    "    reversed_num = int(reversed_str)\n",
    "    return reversed_num\n",
    "input_num = 12345 \n",
    "reversed_num = reverse_integer(input_num)\n",
    "print(f\"Original integer: {input_num}\")\n",
    "print(f\"Integer in reverse order: {reversed_num}\")\n"
   ]
  },
  {
   "cell_type": "markdown",
   "id": "9bbfe499",
   "metadata": {},
   "source": [
    "# 11. Write a Python Function to display all integers within the range 200-300 whose sum of digits is an even number.\n"
   ]
  },
  {
   "cell_type": "code",
   "execution_count": 9,
   "id": "fd60d663",
   "metadata": {},
   "outputs": [
    {
     "name": "stdout",
     "output_type": "stream",
     "text": [
      "Integers in the range 200-300 with even digit sums:\n",
      "200\n",
      "202\n",
      "204\n",
      "206\n",
      "208\n",
      "211\n",
      "213\n",
      "215\n",
      "217\n",
      "219\n",
      "220\n",
      "222\n",
      "224\n",
      "226\n",
      "228\n",
      "231\n",
      "233\n",
      "235\n",
      "237\n",
      "239\n",
      "240\n",
      "242\n",
      "244\n",
      "246\n",
      "248\n",
      "251\n",
      "253\n",
      "255\n",
      "257\n",
      "259\n",
      "260\n",
      "262\n",
      "264\n",
      "266\n",
      "268\n",
      "271\n",
      "273\n",
      "275\n",
      "277\n",
      "279\n",
      "280\n",
      "282\n",
      "284\n",
      "286\n",
      "288\n",
      "291\n",
      "293\n",
      "295\n",
      "297\n",
      "299\n"
     ]
    }
   ],
   "source": [
    "def is_even_digit_sum(num):\n",
    "    digit_sum = sum(int(digit) for digit in str(num))\n",
    "    return digit_sum % 2 == 0\n",
    "def display_integers_with_even_digit_sum(start, end):\n",
    "    for num in range(start, end + 1):\n",
    "        if is_even_digit_sum(num):\n",
    "            print(num)\n",
    "start_range = 200\n",
    "end_range = 300\n",
    "print(f\"Integers in the range {start_range}-{end_range} with even digit sums:\")\n",
    "display_integers_with_even_digit_sum(start_range, end_range)\n"
   ]
  },
  {
   "cell_type": "markdown",
   "id": "14b50f20",
   "metadata": {},
   "source": [
    "# 12. Write a python Function to find the number of digits and sum of digits for a given integer.\n"
   ]
  },
  {
   "cell_type": "code",
   "execution_count": 10,
   "id": "6640a477",
   "metadata": {},
   "outputs": [
    {
     "name": "stdout",
     "output_type": "stream",
     "text": [
      "Number of digits in 12345: 5\n",
      "Sum of digits in 12345: 15\n"
     ]
    }
   ],
   "source": [
    "def count_digits_and_sum(num):\n",
    "    num_str = str(num)\n",
    "    num_digits = len(num_str)\n",
    "    digit_sum = sum(int(digit) for digit in num_str)\n",
    "    return num_digits, digit_sum\n",
    "input_num = 12345 \n",
    "num_digits, digit_sum = count_digits_and_sum(input_num)\n",
    "print(f\"Number of digits in {input_num}: {num_digits}\")\n",
    "print(f\"Sum of digits in {input_num}: {digit_sum}\")\n"
   ]
  },
  {
   "cell_type": "markdown",
   "id": "75f7ac1d",
   "metadata": {},
   "source": [
    "# 13. Write functions called is sorted that takes a list as a parameter and returns True if the list is sorted in ascending order and False otherwise and has duplicates that takes a list and returns True if there is any element that appears more than once. It should not modify the original list.\n"
   ]
  },
  {
   "cell_type": "code",
   "execution_count": 11,
   "id": "7d4e2a7b",
   "metadata": {},
   "outputs": [
    {
     "name": "stdout",
     "output_type": "stream",
     "text": [
      "Is the list sorted in ascending order? True\n"
     ]
    }
   ],
   "source": [
    "def is_sorted(arr):\n",
    "    return all(arr[i] <= arr[i + 1] for i in range(len(arr) - 1))\n",
    "my_list = [1, 2, 3, 4, 5]\n",
    "print(\"Is the list sorted in ascending order?\", is_sorted(my_list))  \n"
   ]
  },
  {
   "cell_type": "code",
   "execution_count": 13,
   "id": "7740e261",
   "metadata": {},
   "outputs": [
    {
     "name": "stdout",
     "output_type": "stream",
     "text": [
      "the list have duplicates? True\n"
     ]
    }
   ],
   "source": [
    "def has_duplicates(arr):\n",
    "    seen = set()\n",
    "    for element in arr:\n",
    "        if element in seen:\n",
    "            return True\n",
    "        seen.add(element)\n",
    "    return False\n",
    "my_list = [1, 2, 2, 3, 4, 5]\n",
    "print(\"the list have duplicates?\", has_duplicates(my_list))  \n"
   ]
  },
  {
   "cell_type": "markdown",
   "id": "c625224c",
   "metadata": {},
   "source": [
    "# 14. Write functions called nested sum that takes a list of integers and adds up the elements from all the nested lists and cumsum that takes a list of numbers and returns the cumulative sum, that is, a new list where the i element is the sum of the first i 1 elements from the original list."
   ]
  },
  {
   "cell_type": "code",
   "execution_count": 14,
   "id": "a89d8eba",
   "metadata": {},
   "outputs": [
    {
     "name": "stdout",
     "output_type": "stream",
     "text": [
      "Cumulative sum of the original list: [1, 3, 6, 10, 15]\n"
     ]
    }
   ],
   "source": [
    "def cumsum(lst):\n",
    "    cumulative_sum = []\n",
    "    total = 0\n",
    "    for num in lst:\n",
    "        total += num\n",
    "        cumulative_sum.append(total)\n",
    "    return cumulative_sum\n",
    "\n",
    "original_list = [1, 2, 3, 4, 5]\n",
    "result = cumsum(original_list)\n",
    "print(\"Cumulative sum of the original list:\", result)  \n"
   ]
  },
  {
   "cell_type": "code",
   "execution_count": 16,
   "id": "b96844f4",
   "metadata": {},
   "outputs": [
    {
     "name": "stdout",
     "output_type": "stream",
     "text": [
      "36\n"
     ]
    }
   ],
   "source": [
    "def nested_sum(lst):\n",
    "    total = 0\n",
    "    for item in lst:\n",
    "        if isinstance(item, list):\n",
    "            total += nested_sum(item)\n",
    "        elif isinstance(item, int):\n",
    "            total += item\n",
    "    return total\n",
    "my_list = [1, 2, [3, 4, [5, 6]], [7, 8]]\n",
    "result = nested_sum(my_list)\n",
    "print(result) \n"
   ]
  },
  {
   "cell_type": "code",
   "execution_count": 23,
   "id": "e4bbf226",
   "metadata": {},
   "outputs": [
    {
     "name": "stdout",
     "output_type": "stream",
     "text": [
      "Enter the string: python\n",
      "p \n",
      "p y \n",
      "p y t \n",
      "p y t h \n",
      "p y t h o \n",
      "p y t h o n \n"
     ]
    }
   ],
   "source": [
    "string = input(\"Enter the string: \")\n",
    "length = len(string)\n",
    "\n",
    "for row in range(length):\n",
    "    for col in range(row + 1):\n",
    "        print(string[col], end=' ')\n",
    "    print()\n",
    "\n"
   ]
  }
 ],
 "metadata": {
  "kernelspec": {
   "display_name": "Python 3 (ipykernel)",
   "language": "python",
   "name": "python3"
  },
  "language_info": {
   "codemirror_mode": {
    "name": "ipython",
    "version": 3
   },
   "file_extension": ".py",
   "mimetype": "text/x-python",
   "name": "python",
   "nbconvert_exporter": "python",
   "pygments_lexer": "ipython3",
   "version": "3.11.4"
  }
 },
 "nbformat": 4,
 "nbformat_minor": 5
}
